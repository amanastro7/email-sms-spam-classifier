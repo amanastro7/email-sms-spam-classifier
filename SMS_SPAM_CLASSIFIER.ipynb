{
 "cells": [
  {
   "cell_type": "markdown",
   "metadata": {
    "id": "XekjDlgkqM8p"
   },
   "source": [
    "DATASET : https://www.kaggle.com/datasets/uciml/sms-spam-collection-dataset"
   ]
  },
  {
   "cell_type": "code",
   "execution_count": 1,
   "metadata": {
    "id": "9_tIsbY1mPoD"
   },
   "outputs": [],
   "source": [
    "import numpy as np\n",
    "import pandas as pd"
   ]
  },
  {
   "cell_type": "code",
   "execution_count": 2,
   "metadata": {
    "colab": {
     "base_uri": "https://localhost:8080/",
     "height": 206
    },
    "id": "2HKV_U7ArJ6H",
    "outputId": "1bc65010-3eb4-42ca-96d0-73cf57df15e1"
   },
   "outputs": [
    {
     "data": {
      "text/html": [
       "<div>\n",
       "<style scoped>\n",
       "    .dataframe tbody tr th:only-of-type {\n",
       "        vertical-align: middle;\n",
       "    }\n",
       "\n",
       "    .dataframe tbody tr th {\n",
       "        vertical-align: top;\n",
       "    }\n",
       "\n",
       "    .dataframe thead th {\n",
       "        text-align: right;\n",
       "    }\n",
       "</style>\n",
       "<table border=\"1\" class=\"dataframe\">\n",
       "  <thead>\n",
       "    <tr style=\"text-align: right;\">\n",
       "      <th></th>\n",
       "      <th>v1</th>\n",
       "      <th>v2</th>\n",
       "      <th>Unnamed: 2</th>\n",
       "      <th>Unnamed: 3</th>\n",
       "      <th>Unnamed: 4</th>\n",
       "    </tr>\n",
       "  </thead>\n",
       "  <tbody>\n",
       "    <tr>\n",
       "      <th>0</th>\n",
       "      <td>ham</td>\n",
       "      <td>Go until jurong point, crazy.. Available only ...</td>\n",
       "      <td>NaN</td>\n",
       "      <td>NaN</td>\n",
       "      <td>NaN</td>\n",
       "    </tr>\n",
       "    <tr>\n",
       "      <th>1</th>\n",
       "      <td>ham</td>\n",
       "      <td>Ok lar... Joking wif u oni...</td>\n",
       "      <td>NaN</td>\n",
       "      <td>NaN</td>\n",
       "      <td>NaN</td>\n",
       "    </tr>\n",
       "    <tr>\n",
       "      <th>2</th>\n",
       "      <td>spam</td>\n",
       "      <td>Free entry in 2 a wkly comp to win FA Cup fina...</td>\n",
       "      <td>NaN</td>\n",
       "      <td>NaN</td>\n",
       "      <td>NaN</td>\n",
       "    </tr>\n",
       "    <tr>\n",
       "      <th>3</th>\n",
       "      <td>ham</td>\n",
       "      <td>U dun say so early hor... U c already then say...</td>\n",
       "      <td>NaN</td>\n",
       "      <td>NaN</td>\n",
       "      <td>NaN</td>\n",
       "    </tr>\n",
       "    <tr>\n",
       "      <th>4</th>\n",
       "      <td>ham</td>\n",
       "      <td>Nah I don't think he goes to usf, he lives aro...</td>\n",
       "      <td>NaN</td>\n",
       "      <td>NaN</td>\n",
       "      <td>NaN</td>\n",
       "    </tr>\n",
       "  </tbody>\n",
       "</table>\n",
       "</div>"
      ],
      "text/plain": [
       "     v1                                                 v2 Unnamed: 2  \\\n",
       "0   ham  Go until jurong point, crazy.. Available only ...        NaN   \n",
       "1   ham                      Ok lar... Joking wif u oni...        NaN   \n",
       "2  spam  Free entry in 2 a wkly comp to win FA Cup fina...        NaN   \n",
       "3   ham  U dun say so early hor... U c already then say...        NaN   \n",
       "4   ham  Nah I don't think he goes to usf, he lives aro...        NaN   \n",
       "\n",
       "  Unnamed: 3 Unnamed: 4  \n",
       "0        NaN        NaN  \n",
       "1        NaN        NaN  \n",
       "2        NaN        NaN  \n",
       "3        NaN        NaN  \n",
       "4        NaN        NaN  "
      ]
     },
     "execution_count": 2,
     "metadata": {},
     "output_type": "execute_result"
    }
   ],
   "source": [
    "sms = pd.read_csv('spam.csv', encoding = \"ISO-8859-1\")\n",
    "sms.head()"
   ]
  },
  {
   "cell_type": "code",
   "execution_count": 3,
   "metadata": {
    "colab": {
     "base_uri": "https://localhost:8080/"
    },
    "id": "6FbhmaMerRFW",
    "outputId": "5c72920c-521c-4a3f-c400-6bed0ba13fd5"
   },
   "outputs": [
    {
     "data": {
      "text/plain": [
       "(5572, 5)"
      ]
     },
     "execution_count": 3,
     "metadata": {},
     "output_type": "execute_result"
    }
   ],
   "source": [
    "sms.shape"
   ]
  },
  {
   "cell_type": "markdown",
   "metadata": {
    "id": "qht55jc0sQ7g"
   },
   "source": [
    "## DATA CLEANING"
   ]
  },
  {
   "cell_type": "code",
   "execution_count": 4,
   "metadata": {
    "colab": {
     "base_uri": "https://localhost:8080/"
    },
    "id": "ANwVcyAStBZF",
    "outputId": "bb70f548-bd40-4a66-f848-8e3f8c2cc69f"
   },
   "outputs": [
    {
     "name": "stdout",
     "output_type": "stream",
     "text": [
      "<class 'pandas.core.frame.DataFrame'>\n",
      "RangeIndex: 5572 entries, 0 to 5571\n",
      "Data columns (total 5 columns):\n",
      " #   Column      Non-Null Count  Dtype \n",
      "---  ------      --------------  ----- \n",
      " 0   v1          5572 non-null   object\n",
      " 1   v2          5572 non-null   object\n",
      " 2   Unnamed: 2  50 non-null     object\n",
      " 3   Unnamed: 3  12 non-null     object\n",
      " 4   Unnamed: 4  6 non-null      object\n",
      "dtypes: object(5)\n",
      "memory usage: 217.8+ KB\n"
     ]
    }
   ],
   "source": [
    "sms.info()"
   ]
  },
  {
   "cell_type": "code",
   "execution_count": 5,
   "metadata": {
    "id": "0iuWgu30shyd"
   },
   "outputs": [],
   "source": [
    "# Dropping Last 3 Columns\n",
    "sms = sms[['v1', 'v2']]"
   ]
  },
  {
   "cell_type": "code",
   "execution_count": 6,
   "metadata": {
    "colab": {
     "base_uri": "https://localhost:8080/",
     "height": 424
    },
    "id": "j5Lt3HSds4F6",
    "outputId": "dca8725a-d1cf-4170-b98c-328558c1dc70"
   },
   "outputs": [
    {
     "data": {
      "text/html": [
       "<div>\n",
       "<style scoped>\n",
       "    .dataframe tbody tr th:only-of-type {\n",
       "        vertical-align: middle;\n",
       "    }\n",
       "\n",
       "    .dataframe tbody tr th {\n",
       "        vertical-align: top;\n",
       "    }\n",
       "\n",
       "    .dataframe thead th {\n",
       "        text-align: right;\n",
       "    }\n",
       "</style>\n",
       "<table border=\"1\" class=\"dataframe\">\n",
       "  <thead>\n",
       "    <tr style=\"text-align: right;\">\n",
       "      <th></th>\n",
       "      <th>v1</th>\n",
       "      <th>v2</th>\n",
       "    </tr>\n",
       "  </thead>\n",
       "  <tbody>\n",
       "    <tr>\n",
       "      <th>0</th>\n",
       "      <td>ham</td>\n",
       "      <td>Go until jurong point, crazy.. Available only ...</td>\n",
       "    </tr>\n",
       "    <tr>\n",
       "      <th>1</th>\n",
       "      <td>ham</td>\n",
       "      <td>Ok lar... Joking wif u oni...</td>\n",
       "    </tr>\n",
       "    <tr>\n",
       "      <th>2</th>\n",
       "      <td>spam</td>\n",
       "      <td>Free entry in 2 a wkly comp to win FA Cup fina...</td>\n",
       "    </tr>\n",
       "    <tr>\n",
       "      <th>3</th>\n",
       "      <td>ham</td>\n",
       "      <td>U dun say so early hor... U c already then say...</td>\n",
       "    </tr>\n",
       "    <tr>\n",
       "      <th>4</th>\n",
       "      <td>ham</td>\n",
       "      <td>Nah I don't think he goes to usf, he lives aro...</td>\n",
       "    </tr>\n",
       "    <tr>\n",
       "      <th>...</th>\n",
       "      <td>...</td>\n",
       "      <td>...</td>\n",
       "    </tr>\n",
       "    <tr>\n",
       "      <th>5567</th>\n",
       "      <td>spam</td>\n",
       "      <td>This is the 2nd time we have tried 2 contact u...</td>\n",
       "    </tr>\n",
       "    <tr>\n",
       "      <th>5568</th>\n",
       "      <td>ham</td>\n",
       "      <td>Will Ì_ b going to esplanade fr home?</td>\n",
       "    </tr>\n",
       "    <tr>\n",
       "      <th>5569</th>\n",
       "      <td>ham</td>\n",
       "      <td>Pity, * was in mood for that. So...any other s...</td>\n",
       "    </tr>\n",
       "    <tr>\n",
       "      <th>5570</th>\n",
       "      <td>ham</td>\n",
       "      <td>The guy did some bitching but I acted like i'd...</td>\n",
       "    </tr>\n",
       "    <tr>\n",
       "      <th>5571</th>\n",
       "      <td>ham</td>\n",
       "      <td>Rofl. Its true to its name</td>\n",
       "    </tr>\n",
       "  </tbody>\n",
       "</table>\n",
       "<p>5572 rows × 2 columns</p>\n",
       "</div>"
      ],
      "text/plain": [
       "        v1                                                 v2\n",
       "0      ham  Go until jurong point, crazy.. Available only ...\n",
       "1      ham                      Ok lar... Joking wif u oni...\n",
       "2     spam  Free entry in 2 a wkly comp to win FA Cup fina...\n",
       "3      ham  U dun say so early hor... U c already then say...\n",
       "4      ham  Nah I don't think he goes to usf, he lives aro...\n",
       "...    ...                                                ...\n",
       "5567  spam  This is the 2nd time we have tried 2 contact u...\n",
       "5568   ham              Will Ì_ b going to esplanade fr home?\n",
       "5569   ham  Pity, * was in mood for that. So...any other s...\n",
       "5570   ham  The guy did some bitching but I acted like i'd...\n",
       "5571   ham                         Rofl. Its true to its name\n",
       "\n",
       "[5572 rows x 2 columns]"
      ]
     },
     "execution_count": 6,
     "metadata": {},
     "output_type": "execute_result"
    }
   ],
   "source": [
    "sms"
   ]
  },
  {
   "cell_type": "code",
   "execution_count": 7,
   "metadata": {
    "colab": {
     "base_uri": "https://localhost:8080/",
     "height": 424
    },
    "id": "ahp2R1fDtKL5",
    "outputId": "19311de9-5781-4642-fa08-cb77a1742b1d"
   },
   "outputs": [
    {
     "data": {
      "text/html": [
       "<div>\n",
       "<style scoped>\n",
       "    .dataframe tbody tr th:only-of-type {\n",
       "        vertical-align: middle;\n",
       "    }\n",
       "\n",
       "    .dataframe tbody tr th {\n",
       "        vertical-align: top;\n",
       "    }\n",
       "\n",
       "    .dataframe thead th {\n",
       "        text-align: right;\n",
       "    }\n",
       "</style>\n",
       "<table border=\"1\" class=\"dataframe\">\n",
       "  <thead>\n",
       "    <tr style=\"text-align: right;\">\n",
       "      <th></th>\n",
       "      <th>target</th>\n",
       "      <th>text</th>\n",
       "    </tr>\n",
       "  </thead>\n",
       "  <tbody>\n",
       "    <tr>\n",
       "      <th>0</th>\n",
       "      <td>ham</td>\n",
       "      <td>Go until jurong point, crazy.. Available only ...</td>\n",
       "    </tr>\n",
       "    <tr>\n",
       "      <th>1</th>\n",
       "      <td>ham</td>\n",
       "      <td>Ok lar... Joking wif u oni...</td>\n",
       "    </tr>\n",
       "    <tr>\n",
       "      <th>2</th>\n",
       "      <td>spam</td>\n",
       "      <td>Free entry in 2 a wkly comp to win FA Cup fina...</td>\n",
       "    </tr>\n",
       "    <tr>\n",
       "      <th>3</th>\n",
       "      <td>ham</td>\n",
       "      <td>U dun say so early hor... U c already then say...</td>\n",
       "    </tr>\n",
       "    <tr>\n",
       "      <th>4</th>\n",
       "      <td>ham</td>\n",
       "      <td>Nah I don't think he goes to usf, he lives aro...</td>\n",
       "    </tr>\n",
       "    <tr>\n",
       "      <th>...</th>\n",
       "      <td>...</td>\n",
       "      <td>...</td>\n",
       "    </tr>\n",
       "    <tr>\n",
       "      <th>5567</th>\n",
       "      <td>spam</td>\n",
       "      <td>This is the 2nd time we have tried 2 contact u...</td>\n",
       "    </tr>\n",
       "    <tr>\n",
       "      <th>5568</th>\n",
       "      <td>ham</td>\n",
       "      <td>Will Ì_ b going to esplanade fr home?</td>\n",
       "    </tr>\n",
       "    <tr>\n",
       "      <th>5569</th>\n",
       "      <td>ham</td>\n",
       "      <td>Pity, * was in mood for that. So...any other s...</td>\n",
       "    </tr>\n",
       "    <tr>\n",
       "      <th>5570</th>\n",
       "      <td>ham</td>\n",
       "      <td>The guy did some bitching but I acted like i'd...</td>\n",
       "    </tr>\n",
       "    <tr>\n",
       "      <th>5571</th>\n",
       "      <td>ham</td>\n",
       "      <td>Rofl. Its true to its name</td>\n",
       "    </tr>\n",
       "  </tbody>\n",
       "</table>\n",
       "<p>5572 rows × 2 columns</p>\n",
       "</div>"
      ],
      "text/plain": [
       "     target                                               text\n",
       "0       ham  Go until jurong point, crazy.. Available only ...\n",
       "1       ham                      Ok lar... Joking wif u oni...\n",
       "2      spam  Free entry in 2 a wkly comp to win FA Cup fina...\n",
       "3       ham  U dun say so early hor... U c already then say...\n",
       "4       ham  Nah I don't think he goes to usf, he lives aro...\n",
       "...     ...                                                ...\n",
       "5567   spam  This is the 2nd time we have tried 2 contact u...\n",
       "5568    ham              Will Ì_ b going to esplanade fr home?\n",
       "5569    ham  Pity, * was in mood for that. So...any other s...\n",
       "5570    ham  The guy did some bitching but I acted like i'd...\n",
       "5571    ham                         Rofl. Its true to its name\n",
       "\n",
       "[5572 rows x 2 columns]"
      ]
     },
     "execution_count": 7,
     "metadata": {},
     "output_type": "execute_result"
    }
   ],
   "source": [
    "# Renaming The Columns\n",
    "sms.rename(columns={'v1': 'target',\n",
    "                    'v2': 'text'}, inplace=True)\n",
    "sms"
   ]
  },
  {
   "cell_type": "code",
   "execution_count": 8,
   "metadata": {
    "colab": {
     "base_uri": "https://localhost:8080/",
     "height": 424
    },
    "id": "fl6j_dMAtv0T",
    "outputId": "54aeaedb-d815-4b7d-e06d-09938e724e53"
   },
   "outputs": [
    {
     "data": {
      "text/html": [
       "<div>\n",
       "<style scoped>\n",
       "    .dataframe tbody tr th:only-of-type {\n",
       "        vertical-align: middle;\n",
       "    }\n",
       "\n",
       "    .dataframe tbody tr th {\n",
       "        vertical-align: top;\n",
       "    }\n",
       "\n",
       "    .dataframe thead th {\n",
       "        text-align: right;\n",
       "    }\n",
       "</style>\n",
       "<table border=\"1\" class=\"dataframe\">\n",
       "  <thead>\n",
       "    <tr style=\"text-align: right;\">\n",
       "      <th></th>\n",
       "      <th>target</th>\n",
       "      <th>text</th>\n",
       "    </tr>\n",
       "  </thead>\n",
       "  <tbody>\n",
       "    <tr>\n",
       "      <th>0</th>\n",
       "      <td>0</td>\n",
       "      <td>Go until jurong point, crazy.. Available only ...</td>\n",
       "    </tr>\n",
       "    <tr>\n",
       "      <th>1</th>\n",
       "      <td>0</td>\n",
       "      <td>Ok lar... Joking wif u oni...</td>\n",
       "    </tr>\n",
       "    <tr>\n",
       "      <th>2</th>\n",
       "      <td>1</td>\n",
       "      <td>Free entry in 2 a wkly comp to win FA Cup fina...</td>\n",
       "    </tr>\n",
       "    <tr>\n",
       "      <th>3</th>\n",
       "      <td>0</td>\n",
       "      <td>U dun say so early hor... U c already then say...</td>\n",
       "    </tr>\n",
       "    <tr>\n",
       "      <th>4</th>\n",
       "      <td>0</td>\n",
       "      <td>Nah I don't think he goes to usf, he lives aro...</td>\n",
       "    </tr>\n",
       "    <tr>\n",
       "      <th>...</th>\n",
       "      <td>...</td>\n",
       "      <td>...</td>\n",
       "    </tr>\n",
       "    <tr>\n",
       "      <th>5567</th>\n",
       "      <td>1</td>\n",
       "      <td>This is the 2nd time we have tried 2 contact u...</td>\n",
       "    </tr>\n",
       "    <tr>\n",
       "      <th>5568</th>\n",
       "      <td>0</td>\n",
       "      <td>Will Ì_ b going to esplanade fr home?</td>\n",
       "    </tr>\n",
       "    <tr>\n",
       "      <th>5569</th>\n",
       "      <td>0</td>\n",
       "      <td>Pity, * was in mood for that. So...any other s...</td>\n",
       "    </tr>\n",
       "    <tr>\n",
       "      <th>5570</th>\n",
       "      <td>0</td>\n",
       "      <td>The guy did some bitching but I acted like i'd...</td>\n",
       "    </tr>\n",
       "    <tr>\n",
       "      <th>5571</th>\n",
       "      <td>0</td>\n",
       "      <td>Rofl. Its true to its name</td>\n",
       "    </tr>\n",
       "  </tbody>\n",
       "</table>\n",
       "<p>5572 rows × 2 columns</p>\n",
       "</div>"
      ],
      "text/plain": [
       "      target                                               text\n",
       "0          0  Go until jurong point, crazy.. Available only ...\n",
       "1          0                      Ok lar... Joking wif u oni...\n",
       "2          1  Free entry in 2 a wkly comp to win FA Cup fina...\n",
       "3          0  U dun say so early hor... U c already then say...\n",
       "4          0  Nah I don't think he goes to usf, he lives aro...\n",
       "...      ...                                                ...\n",
       "5567       1  This is the 2nd time we have tried 2 contact u...\n",
       "5568       0              Will Ì_ b going to esplanade fr home?\n",
       "5569       0  Pity, * was in mood for that. So...any other s...\n",
       "5570       0  The guy did some bitching but I acted like i'd...\n",
       "5571       0                         Rofl. Its true to its name\n",
       "\n",
       "[5572 rows x 2 columns]"
      ]
     },
     "execution_count": 8,
     "metadata": {},
     "output_type": "execute_result"
    }
   ],
   "source": [
    "from sklearn.preprocessing import LabelEncoder\n",
    "\n",
    "encoder = LabelEncoder()\n",
    "sms['target'] = encoder.fit_transform(sms['target'])\n",
    "\n",
    "sms"
   ]
  },
  {
   "cell_type": "code",
   "execution_count": 9,
   "metadata": {
    "colab": {
     "base_uri": "https://localhost:8080/"
    },
    "id": "VbIAdn6WuRgo",
    "outputId": "7e3dbafb-a144-40f3-bc93-a5f14b0632e0"
   },
   "outputs": [
    {
     "data": {
      "text/plain": [
       "target    0\n",
       "text      0\n",
       "dtype: int64"
      ]
     },
     "execution_count": 9,
     "metadata": {},
     "output_type": "execute_result"
    }
   ],
   "source": [
    "sms.isnull().sum()"
   ]
  },
  {
   "cell_type": "code",
   "execution_count": 10,
   "metadata": {
    "colab": {
     "base_uri": "https://localhost:8080/"
    },
    "id": "BfBUUsrguYGk",
    "outputId": "729de070-75be-411b-e69b-e4fdea346201"
   },
   "outputs": [
    {
     "data": {
      "text/plain": [
       "403"
      ]
     },
     "execution_count": 10,
     "metadata": {},
     "output_type": "execute_result"
    }
   ],
   "source": [
    "sms.duplicated().sum()"
   ]
  },
  {
   "cell_type": "code",
   "execution_count": 11,
   "metadata": {
    "colab": {
     "base_uri": "https://localhost:8080/"
    },
    "id": "oBie2JixucSN",
    "outputId": "fca4bd8d-c4f1-49fb-dbbb-ebfac4da147b"
   },
   "outputs": [
    {
     "data": {
      "text/plain": [
       "(5169, 2)"
      ]
     },
     "execution_count": 11,
     "metadata": {},
     "output_type": "execute_result"
    }
   ],
   "source": [
    "# Removing The Duplicates\n",
    "sms = sms.drop_duplicates(keep='first')\n",
    "sms.shape"
   ]
  },
  {
   "cell_type": "markdown",
   "metadata": {
    "id": "Bwdf9tfKsMY2"
   },
   "source": [
    "## EDA"
   ]
  },
  {
   "cell_type": "code",
   "execution_count": 12,
   "metadata": {
    "colab": {
     "base_uri": "https://localhost:8080/"
    },
    "id": "zQUeA_dhuxas",
    "outputId": "8e918d8e-ad4f-4188-e1f7-9208af75af85"
   },
   "outputs": [
    {
     "data": {
      "text/plain": [
       "0    4516\n",
       "1     653\n",
       "Name: target, dtype: int64"
      ]
     },
     "execution_count": 12,
     "metadata": {},
     "output_type": "execute_result"
    }
   ],
   "source": [
    "sms['target'].value_counts()"
   ]
  },
  {
   "cell_type": "code",
   "execution_count": 13,
   "metadata": {
    "colab": {
     "base_uri": "https://localhost:8080/",
     "height": 248
    },
    "id": "lm64Kx_vvGbx",
    "outputId": "ba59362d-9ef5-43b1-b1af-7f5a4317841e"
   },
   "outputs": [
    {
     "data": {
      "image/png": "[encoded data removed]",
      "text/plain": [
       "<Figure size 640x480 with 1 Axes>"
      ]
     },
     "metadata": {},
     "output_type": "display_data"
    }
   ],
   "source": [
    "import matplotlib.pyplot as plt\n",
    "plt.pie(sms['target'].value_counts(), labels=['ham', 'spam'], autopct='%0.2f%%');"
   ]
  },
  {
   "cell_type": "markdown",
   "metadata": {
    "id": "QFHY3LKywKpY"
   },
   "source": [
    "We have an imbalanced dataset."
   ]
  },
  {
   "cell_type": "code",
   "execution_count": 15,
   "metadata": {},
   "outputs": [
    {
     "name": "stdout",
     "output_type": "stream",
     "text": [
      "Collecting nltk\n",
      "  Downloading nltk-3.8-py3-none-any.whl (1.5 MB)\n",
      "     ---------------------------------------- 1.5/1.5 MB 989.4 kB/s eta 0:00:00\n",
      "Collecting tqdm\n",
      "  Downloading tqdm-4.64.1-py2.py3-none-any.whl (78 kB)\n",
      "     ---------------------------------------- 78.5/78.5 kB 1.5 MB/s eta 0:00:00\n",
      "Requirement already satisfied: joblib in c:\\users\\astro\\music\\data science projects\\email_sms_spam\\env\\lib\\site-packages (from nltk) (1.1.1)\n",
      "Collecting click\n",
      "  Using cached click-8.1.3-py3-none-any.whl (96 kB)\n",
      "Collecting regex>=2021.8.3\n",
      "  Downloading regex-2022.10.31-cp310-cp310-win_amd64.whl (267 kB)\n",
      "     -------------------------------------- 267.7/267.7 kB 1.0 MB/s eta 0:00:00\n",
      "Requirement already satisfied: colorama in c:\\users\\astro\\music\\data science projects\\email_sms_spam\\env\\lib\\site-packages (from click->nltk) (0.4.5)\n",
      "Installing collected packages: tqdm, regex, click, nltk\n",
      "Successfully installed click-8.1.3 nltk-3.8 regex-2022.10.31 tqdm-4.64.1\n"
     ]
    }
   ],
   "source": [
    "!pip install nltk"
   ]
  },
  {
   "cell_type": "code",
   "execution_count": 16,
   "metadata": {
    "id": "X7HiCrrpwFHd"
   },
   "outputs": [],
   "source": [
    "import nltk"
   ]
  },
  {
   "cell_type": "code",
   "execution_count": 17,
   "metadata": {
    "colab": {
     "base_uri": "https://localhost:8080/"
    },
    "id": "9_w0UFeBwfEk",
    "outputId": "2002c294-a123-43e0-f0d3-28d34ce2cc26"
   },
   "outputs": [
    {
     "name": "stderr",
     "output_type": "stream",
     "text": [
      "[nltk_data] Downloading package punkt to\n",
      "[nltk_data]     C:\\Users\\astro\\AppData\\Roaming\\nltk_data...\n",
      "[nltk_data]   Package punkt is already up-to-date!\n"
     ]
    },
    {
     "data": {
      "text/plain": [
       "True"
      ]
     },
     "execution_count": 17,
     "metadata": {},
     "output_type": "execute_result"
    }
   ],
   "source": [
    "nltk.download('punkt')"
   ]
  },
  {
   "cell_type": "code",
   "execution_count": 18,
   "metadata": {
    "colab": {
     "base_uri": "https://localhost:8080/"
    },
    "id": "aIN2cibvwuRx",
    "outputId": "08f5985a-30f6-4659-e9cb-96e5e488ee57"
   },
   "outputs": [
    {
     "data": {
      "text/plain": [
       "0       111\n",
       "1        29\n",
       "2       155\n",
       "3        49\n",
       "4        61\n",
       "       ... \n",
       "5567    161\n",
       "5568     37\n",
       "5569     57\n",
       "5570    125\n",
       "5571     26\n",
       "Name: text, Length: 5169, dtype: int64"
      ]
     },
     "execution_count": 18,
     "metadata": {},
     "output_type": "execute_result"
    }
   ],
   "source": [
    "# Fetching The Number Of Characters\n",
    "sms['text'].apply(len)"
   ]
  },
  {
   "cell_type": "code",
   "execution_count": 19,
   "metadata": {
    "colab": {
     "base_uri": "https://localhost:8080/"
    },
    "id": "uQJqjCMlw7pN",
    "outputId": "08ecb0b7-93c6-4c09-9910-b495a2d17630"
   },
   "outputs": [
    {
     "name": "stderr",
     "output_type": "stream",
     "text": [
      "C:\\Users\\astro\\AppData\\Local\\Temp\\ipykernel_20168\\2260612507.py:1: SettingWithCopyWarning: \n",
      "A value is trying to be set on a copy of a slice from a DataFrame.\n",
      "Try using .loc[row_indexer,col_indexer] = value instead\n",
      "\n",
      "See the caveats in the documentation: https://pandas.pydata.org/pandas-docs/stable/user_guide/indexing.html#returning-a-view-versus-a-copy\n",
      "  sms['character_count'] = sms['text'].apply(len)\n"
     ]
    }
   ],
   "source": [
    "sms['character_count'] = sms['text'].apply(len)"
   ]
  },
  {
   "cell_type": "code",
   "execution_count": 20,
   "metadata": {
    "colab": {
     "base_uri": "https://localhost:8080/",
     "height": 424
    },
    "id": "q8yNvbunw7CB",
    "outputId": "1ad5f958-0751-4576-8f34-11a2e91ec501"
   },
   "outputs": [
    {
     "data": {
      "text/html": [
       "<div>\n",
       "<style scoped>\n",
       "    .dataframe tbody tr th:only-of-type {\n",
       "        vertical-align: middle;\n",
       "    }\n",
       "\n",
       "    .dataframe tbody tr th {\n",
       "        vertical-align: top;\n",
       "    }\n",
       "\n",
       "    .dataframe thead th {\n",
       "        text-align: right;\n",
       "    }\n",
       "</style>\n",
       "<table border=\"1\" class=\"dataframe\">\n",
       "  <thead>\n",
       "    <tr style=\"text-align: right;\">\n",
       "      <th></th>\n",
       "      <th>target</th>\n",
       "      <th>text</th>\n",
       "      <th>character_count</th>\n",
       "    </tr>\n",
       "  </thead>\n",
       "  <tbody>\n",
       "    <tr>\n",
       "      <th>0</th>\n",
       "      <td>0</td>\n",
       "      <td>Go until jurong point, crazy.. Available only ...</td>\n",
       "      <td>111</td>\n",
       "    </tr>\n",
       "    <tr>\n",
       "      <th>1</th>\n",
       "      <td>0</td>\n",
       "      <td>Ok lar... Joking wif u oni...</td>\n",
       "      <td>29</td>\n",
       "    </tr>\n",
       "    <tr>\n",
       "      <th>2</th>\n",
       "      <td>1</td>\n",
       "      <td>Free entry in 2 a wkly comp to win FA Cup fina...</td>\n",
       "      <td>155</td>\n",
       "    </tr>\n",
       "    <tr>\n",
       "      <th>3</th>\n",
       "      <td>0</td>\n",
       "      <td>U dun say so early hor... U c already then say...</td>\n",
       "      <td>49</td>\n",
       "    </tr>\n",
       "    <tr>\n",
       "      <th>4</th>\n",
       "      <td>0</td>\n",
       "      <td>Nah I don't think he goes to usf, he lives aro...</td>\n",
       "      <td>61</td>\n",
       "    </tr>\n",
       "    <tr>\n",
       "      <th>...</th>\n",
       "      <td>...</td>\n",
       "      <td>...</td>\n",
       "      <td>...</td>\n",
       "    </tr>\n",
       "    <tr>\n",
       "      <th>5567</th>\n",
       "      <td>1</td>\n",
       "      <td>This is the 2nd time we have tried 2 contact u...</td>\n",
       "      <td>161</td>\n",
       "    </tr>\n",
       "    <tr>\n",
       "      <th>5568</th>\n",
       "      <td>0</td>\n",
       "      <td>Will Ì_ b going to esplanade fr home?</td>\n",
       "      <td>37</td>\n",
       "    </tr>\n",
       "    <tr>\n",
       "      <th>5569</th>\n",
       "      <td>0</td>\n",
       "      <td>Pity, * was in mood for that. So...any other s...</td>\n",
       "      <td>57</td>\n",
       "    </tr>\n",
       "    <tr>\n",
       "      <th>5570</th>\n",
       "      <td>0</td>\n",
       "      <td>The guy did some bitching but I acted like i'd...</td>\n",
       "      <td>125</td>\n",
       "    </tr>\n",
       "    <tr>\n",
       "      <th>5571</th>\n",
       "      <td>0</td>\n",
       "      <td>Rofl. Its true to its name</td>\n",
       "      <td>26</td>\n",
       "    </tr>\n",
       "  </tbody>\n",
       "</table>\n",
       "<p>5169 rows × 3 columns</p>\n",
       "</div>"
      ],
      "text/plain": [
       "      target                                               text  \\\n",
       "0          0  Go until jurong point, crazy.. Available only ...   \n",
       "1          0                      Ok lar... Joking wif u oni...   \n",
       "2          1  Free entry in 2 a wkly comp to win FA Cup fina...   \n",
       "3          0  U dun say so early hor... U c already then say...   \n",
       "4          0  Nah I don't think he goes to usf, he lives aro...   \n",
       "...      ...                                                ...   \n",
       "5567       1  This is the 2nd time we have tried 2 contact u...   \n",
       "5568       0              Will Ì_ b going to esplanade fr home?   \n",
       "5569       0  Pity, * was in mood for that. So...any other s...   \n",
       "5570       0  The guy did some bitching but I acted like i'd...   \n",
       "5571       0                         Rofl. Its true to its name   \n",
       "\n",
       "      character_count  \n",
       "0                 111  \n",
       "1                  29  \n",
       "2                 155  \n",
       "3                  49  \n",
       "4                  61  \n",
       "...               ...  \n",
       "5567              161  \n",
       "5568               37  \n",
       "5569               57  \n",
       "5570              125  \n",
       "5571               26  \n",
       "\n",
       "[5169 rows x 3 columns]"
      ]
     },
     "execution_count": 20,
     "metadata": {},
     "output_type": "execute_result"
    }
   ],
   "source": [
    "sms"
   ]
  },
  {
   "cell_type": "code",
   "execution_count": 21,
   "metadata": {
    "colab": {
     "base_uri": "https://localhost:8080/"
    },
    "id": "VreF-SqTxUXj",
    "outputId": "20b97c5e-5bcd-4737-da3a-30885534cc7e"
   },
   "outputs": [
    {
     "data": {
      "text/plain": [
       "0       24\n",
       "1        8\n",
       "2       37\n",
       "3       13\n",
       "4       15\n",
       "        ..\n",
       "5567    35\n",
       "5568     9\n",
       "5569    15\n",
       "5570    27\n",
       "5571     7\n",
       "Name: text, Length: 5169, dtype: int64"
      ]
     },
     "execution_count": 21,
     "metadata": {},
     "output_type": "execute_result"
    }
   ],
   "source": [
    "# Fetching The Number Of Words\n",
    "sms['text'].apply(lambda x:len(nltk.word_tokenize(x)))"
   ]
  },
  {
   "cell_type": "code",
   "execution_count": 22,
   "metadata": {
    "colab": {
     "base_uri": "https://localhost:8080/"
    },
    "id": "LJO9LLjgx8Zc",
    "outputId": "16b65919-27c2-4351-8148-cb64aad6935c"
   },
   "outputs": [
    {
     "name": "stderr",
     "output_type": "stream",
     "text": [
      "C:\\Users\\astro\\AppData\\Local\\Temp\\ipykernel_20168\\3121915205.py:1: SettingWithCopyWarning: \n",
      "A value is trying to be set on a copy of a slice from a DataFrame.\n",
      "Try using .loc[row_indexer,col_indexer] = value instead\n",
      "\n",
      "See the caveats in the documentation: https://pandas.pydata.org/pandas-docs/stable/user_guide/indexing.html#returning-a-view-versus-a-copy\n",
      "  sms['word_count'] = sms['text'].apply(lambda x:len(nltk.word_tokenize(x)))\n"
     ]
    }
   ],
   "source": [
    "sms['word_count'] = sms['text'].apply(lambda x:len(nltk.word_tokenize(x)))"
   ]
  },
  {
   "cell_type": "code",
   "execution_count": 23,
   "metadata": {
    "colab": {
     "base_uri": "https://localhost:8080/",
     "height": 206
    },
    "id": "FC15BkRcyOC_",
    "outputId": "f7f8b468-24a6-4b21-8809-a729347c68f3"
   },
   "outputs": [
    {
     "data": {
      "text/html": [
       "<div>\n",
       "<style scoped>\n",
       "    .dataframe tbody tr th:only-of-type {\n",
       "        vertical-align: middle;\n",
       "    }\n",
       "\n",
       "    .dataframe tbody tr th {\n",
       "        vertical-align: top;\n",
       "    }\n",
       "\n",
       "    .dataframe thead th {\n",
       "        text-align: right;\n",
       "    }\n",
       "</style>\n",
       "<table border=\"1\" class=\"dataframe\">\n",
       "  <thead>\n",
       "    <tr style=\"text-align: right;\">\n",
       "      <th></th>\n",
       "      <th>target</th>\n",
       "      <th>text</th>\n",
       "      <th>character_count</th>\n",
       "      <th>word_count</th>\n",
       "    </tr>\n",
       "  </thead>\n",
       "  <tbody>\n",
       "    <tr>\n",
       "      <th>0</th>\n",
       "      <td>0</td>\n",
       "      <td>Go until jurong point, crazy.. Available only ...</td>\n",
       "      <td>111</td>\n",
       "      <td>24</td>\n",
       "    </tr>\n",
       "    <tr>\n",
       "      <th>1</th>\n",
       "      <td>0</td>\n",
       "      <td>Ok lar... Joking wif u oni...</td>\n",
       "      <td>29</td>\n",
       "      <td>8</td>\n",
       "    </tr>\n",
       "    <tr>\n",
       "      <th>2</th>\n",
       "      <td>1</td>\n",
       "      <td>Free entry in 2 a wkly comp to win FA Cup fina...</td>\n",
       "      <td>155</td>\n",
       "      <td>37</td>\n",
       "    </tr>\n",
       "    <tr>\n",
       "      <th>3</th>\n",
       "      <td>0</td>\n",
       "      <td>U dun say so early hor... U c already then say...</td>\n",
       "      <td>49</td>\n",
       "      <td>13</td>\n",
       "    </tr>\n",
       "    <tr>\n",
       "      <th>4</th>\n",
       "      <td>0</td>\n",
       "      <td>Nah I don't think he goes to usf, he lives aro...</td>\n",
       "      <td>61</td>\n",
       "      <td>15</td>\n",
       "    </tr>\n",
       "  </tbody>\n",
       "</table>\n",
       "</div>"
      ],
      "text/plain": [
       "   target                                               text  character_count  \\\n",
       "0       0  Go until jurong point, crazy.. Available only ...              111   \n",
       "1       0                      Ok lar... Joking wif u oni...               29   \n",
       "2       1  Free entry in 2 a wkly comp to win FA Cup fina...              155   \n",
       "3       0  U dun say so early hor... U c already then say...               49   \n",
       "4       0  Nah I don't think he goes to usf, he lives aro...               61   \n",
       "\n",
       "   word_count  \n",
       "0          24  \n",
       "1           8  \n",
       "2          37  \n",
       "3          13  \n",
       "4          15  "
      ]
     },
     "execution_count": 23,
     "metadata": {},
     "output_type": "execute_result"
    }
   ],
   "source": [
    "sms.head()"
   ]
  },
  {
   "cell_type": "code",
   "execution_count": 24,
   "metadata": {
    "colab": {
     "base_uri": "https://localhost:8080/"
    },
    "id": "WBQPapby0eQ_",
    "outputId": "2e64fd60-fb39-4dfc-cd4e-5716ba1bb801"
   },
   "outputs": [
    {
     "data": {
      "text/plain": [
       "0       2\n",
       "1       2\n",
       "2       2\n",
       "3       1\n",
       "4       1\n",
       "       ..\n",
       "5567    4\n",
       "5568    1\n",
       "5569    2\n",
       "5570    1\n",
       "5571    2\n",
       "Name: text, Length: 5169, dtype: int64"
      ]
     },
     "execution_count": 24,
     "metadata": {},
     "output_type": "execute_result"
    }
   ],
   "source": [
    "# Fetching The Number Of Sentences\n",
    "sms['text'].apply(lambda x:len(nltk.sent_tokenize(x)))"
   ]
  },
  {
   "cell_type": "code",
   "execution_count": 25,
   "metadata": {
    "colab": {
     "base_uri": "https://localhost:8080/"
    },
    "id": "Swl17VVX0g5a",
    "outputId": "9e3c347e-92c3-461e-dab3-f4e4024c098f"
   },
   "outputs": [
    {
     "name": "stderr",
     "output_type": "stream",
     "text": [
      "C:\\Users\\astro\\AppData\\Local\\Temp\\ipykernel_20168\\790509533.py:1: SettingWithCopyWarning: \n",
      "A value is trying to be set on a copy of a slice from a DataFrame.\n",
      "Try using .loc[row_indexer,col_indexer] = value instead\n",
      "\n",
      "See the caveats in the documentation: https://pandas.pydata.org/pandas-docs/stable/user_guide/indexing.html#returning-a-view-versus-a-copy\n",
      "  sms['sentences_count'] = sms['text'].apply(lambda x:len(nltk.sent_tokenize(x)))\n"
     ]
    }
   ],
   "source": [
    "sms['sentences_count'] = sms['text'].apply(lambda x:len(nltk.sent_tokenize(x)))"
   ]
  },
  {
   "cell_type": "code",
   "execution_count": 26,
   "metadata": {
    "colab": {
     "base_uri": "https://localhost:8080/",
     "height": 206
    },
    "id": "aTrrUCGb0582",
    "outputId": "b956ee74-d3fe-4bc8-8e0c-b90f18354e3b"
   },
   "outputs": [
    {
     "data": {
      "text/html": [
       "<div>\n",
       "<style scoped>\n",
       "    .dataframe tbody tr th:only-of-type {\n",
       "        vertical-align: middle;\n",
       "    }\n",
       "\n",
       "    .dataframe tbody tr th {\n",
       "        vertical-align: top;\n",
       "    }\n",
       "\n",
       "    .dataframe thead th {\n",
       "        text-align: right;\n",
       "    }\n",
       "</style>\n",
       "<table border=\"1\" class=\"dataframe\">\n",
       "  <thead>\n",
       "    <tr style=\"text-align: right;\">\n",
       "      <th></th>\n",
       "      <th>target</th>\n",
       "      <th>text</th>\n",
       "      <th>character_count</th>\n",
       "      <th>word_count</th>\n",
       "      <th>sentences_count</th>\n",
       "    </tr>\n",
       "  </thead>\n",
       "  <tbody>\n",
       "    <tr>\n",
       "      <th>0</th>\n",
       "      <td>0</td>\n",
       "      <td>Go until jurong point, crazy.. Available only ...</td>\n",
       "      <td>111</td>\n",
       "      <td>24</td>\n",
       "      <td>2</td>\n",
       "    </tr>\n",
       "    <tr>\n",
       "      <th>1</th>\n",
       "      <td>0</td>\n",
       "      <td>Ok lar... Joking wif u oni...</td>\n",
       "      <td>29</td>\n",
       "      <td>8</td>\n",
       "      <td>2</td>\n",
       "    </tr>\n",
       "    <tr>\n",
       "      <th>2</th>\n",
       "      <td>1</td>\n",
       "      <td>Free entry in 2 a wkly comp to win FA Cup fina...</td>\n",
       "      <td>155</td>\n",
       "      <td>37</td>\n",
       "      <td>2</td>\n",
       "    </tr>\n",
       "    <tr>\n",
       "      <th>3</th>\n",
       "      <td>0</td>\n",
       "      <td>U dun say so early hor... U c already then say...</td>\n",
       "      <td>49</td>\n",
       "      <td>13</td>\n",
       "      <td>1</td>\n",
       "    </tr>\n",
       "    <tr>\n",
       "      <th>4</th>\n",
       "      <td>0</td>\n",
       "      <td>Nah I don't think he goes to usf, he lives aro...</td>\n",
       "      <td>61</td>\n",
       "      <td>15</td>\n",
       "      <td>1</td>\n",
       "    </tr>\n",
       "  </tbody>\n",
       "</table>\n",
       "</div>"
      ],
      "text/plain": [
       "   target                                               text  character_count  \\\n",
       "0       0  Go until jurong point, crazy.. Available only ...              111   \n",
       "1       0                      Ok lar... Joking wif u oni...               29   \n",
       "2       1  Free entry in 2 a wkly comp to win FA Cup fina...              155   \n",
       "3       0  U dun say so early hor... U c already then say...               49   \n",
       "4       0  Nah I don't think he goes to usf, he lives aro...               61   \n",
       "\n",
       "   word_count  sentences_count  \n",
       "0          24                2  \n",
       "1           8                2  \n",
       "2          37                2  \n",
       "3          13                1  \n",
       "4          15                1  "
      ]
     },
     "execution_count": 26,
     "metadata": {},
     "output_type": "execute_result"
    }
   ],
   "source": [
    "sms.head()"
   ]
  },
  {
   "cell_type": "code",
   "execution_count": 27,
   "metadata": {
    "colab": {
     "base_uri": "https://localhost:8080/",
     "height": 300
    },
    "id": "4LEGkVZn1ACS",
    "outputId": "710ab56a-cd65-4f76-b31e-9ff100e52430"
   },
   "outputs": [
    {
     "data": {
      "text/html": [
       "<div>\n",
       "<style scoped>\n",
       "    .dataframe tbody tr th:only-of-type {\n",
       "        vertical-align: middle;\n",
       "    }\n",
       "\n",
       "    .dataframe tbody tr th {\n",
       "        vertical-align: top;\n",
       "    }\n",
       "\n",
       "    .dataframe thead th {\n",
       "        text-align: right;\n",
       "    }\n",
       "</style>\n",
       "<table border=\"1\" class=\"dataframe\">\n",
       "  <thead>\n",
       "    <tr style=\"text-align: right;\">\n",
       "      <th></th>\n",
       "      <th>character_count</th>\n",
       "      <th>word_count</th>\n",
       "      <th>sentences_count</th>\n",
       "    </tr>\n",
       "  </thead>\n",
       "  <tbody>\n",
       "    <tr>\n",
       "      <th>count</th>\n",
       "      <td>5169.000000</td>\n",
       "      <td>5169.000000</td>\n",
       "      <td>5169.000000</td>\n",
       "    </tr>\n",
       "    <tr>\n",
       "      <th>mean</th>\n",
       "      <td>78.977945</td>\n",
       "      <td>18.455794</td>\n",
       "      <td>1.965564</td>\n",
       "    </tr>\n",
       "    <tr>\n",
       "      <th>std</th>\n",
       "      <td>58.236293</td>\n",
       "      <td>13.324758</td>\n",
       "      <td>1.448541</td>\n",
       "    </tr>\n",
       "    <tr>\n",
       "      <th>min</th>\n",
       "      <td>2.000000</td>\n",
       "      <td>1.000000</td>\n",
       "      <td>1.000000</td>\n",
       "    </tr>\n",
       "    <tr>\n",
       "      <th>25%</th>\n",
       "      <td>36.000000</td>\n",
       "      <td>9.000000</td>\n",
       "      <td>1.000000</td>\n",
       "    </tr>\n",
       "    <tr>\n",
       "      <th>50%</th>\n",
       "      <td>60.000000</td>\n",
       "      <td>15.000000</td>\n",
       "      <td>1.000000</td>\n",
       "    </tr>\n",
       "    <tr>\n",
       "      <th>75%</th>\n",
       "      <td>117.000000</td>\n",
       "      <td>26.000000</td>\n",
       "      <td>2.000000</td>\n",
       "    </tr>\n",
       "    <tr>\n",
       "      <th>max</th>\n",
       "      <td>910.000000</td>\n",
       "      <td>220.000000</td>\n",
       "      <td>38.000000</td>\n",
       "    </tr>\n",
       "  </tbody>\n",
       "</table>\n",
       "</div>"
      ],
      "text/plain": [
       "       character_count   word_count  sentences_count\n",
       "count      5169.000000  5169.000000      5169.000000\n",
       "mean         78.977945    18.455794         1.965564\n",
       "std          58.236293    13.324758         1.448541\n",
       "min           2.000000     1.000000         1.000000\n",
       "25%          36.000000     9.000000         1.000000\n",
       "50%          60.000000    15.000000         1.000000\n",
       "75%         117.000000    26.000000         2.000000\n",
       "max         910.000000   220.000000        38.000000"
      ]
     },
     "execution_count": 27,
     "metadata": {},
     "output_type": "execute_result"
    }
   ],
   "source": [
    "sms[['character_count', 'word_count', 'sentences_count']].describe()"
   ]
  },
  {
   "cell_type": "code",
   "execution_count": 28,
   "metadata": {
    "colab": {
     "base_uri": "https://localhost:8080/",
     "height": 300
    },
    "id": "0j4R5dIY12uv",
    "outputId": "49eceb37-102c-4068-c075-a5be17f7f6bc"
   },
   "outputs": [
    {
     "data": {
      "text/html": [
       "<div>\n",
       "<style scoped>\n",
       "    .dataframe tbody tr th:only-of-type {\n",
       "        vertical-align: middle;\n",
       "    }\n",
       "\n",
       "    .dataframe tbody tr th {\n",
       "        vertical-align: top;\n",
       "    }\n",
       "\n",
       "    .dataframe thead th {\n",
       "        text-align: right;\n",
       "    }\n",
       "</style>\n",
       "<table border=\"1\" class=\"dataframe\">\n",
       "  <thead>\n",
       "    <tr style=\"text-align: right;\">\n",
       "      <th></th>\n",
       "      <th>character_count</th>\n",
       "      <th>word_count</th>\n",
       "      <th>sentences_count</th>\n",
       "    </tr>\n",
       "  </thead>\n",
       "  <tbody>\n",
       "    <tr>\n",
       "      <th>count</th>\n",
       "      <td>4516.000000</td>\n",
       "      <td>4516.000000</td>\n",
       "      <td>4516.000000</td>\n",
       "    </tr>\n",
       "    <tr>\n",
       "      <th>mean</th>\n",
       "      <td>70.459256</td>\n",
       "      <td>17.123782</td>\n",
       "      <td>1.820195</td>\n",
       "    </tr>\n",
       "    <tr>\n",
       "      <th>std</th>\n",
       "      <td>56.358207</td>\n",
       "      <td>13.493970</td>\n",
       "      <td>1.383657</td>\n",
       "    </tr>\n",
       "    <tr>\n",
       "      <th>min</th>\n",
       "      <td>2.000000</td>\n",
       "      <td>1.000000</td>\n",
       "      <td>1.000000</td>\n",
       "    </tr>\n",
       "    <tr>\n",
       "      <th>25%</th>\n",
       "      <td>34.000000</td>\n",
       "      <td>8.000000</td>\n",
       "      <td>1.000000</td>\n",
       "    </tr>\n",
       "    <tr>\n",
       "      <th>50%</th>\n",
       "      <td>52.000000</td>\n",
       "      <td>13.000000</td>\n",
       "      <td>1.000000</td>\n",
       "    </tr>\n",
       "    <tr>\n",
       "      <th>75%</th>\n",
       "      <td>90.000000</td>\n",
       "      <td>22.000000</td>\n",
       "      <td>2.000000</td>\n",
       "    </tr>\n",
       "    <tr>\n",
       "      <th>max</th>\n",
       "      <td>910.000000</td>\n",
       "      <td>220.000000</td>\n",
       "      <td>38.000000</td>\n",
       "    </tr>\n",
       "  </tbody>\n",
       "</table>\n",
       "</div>"
      ],
      "text/plain": [
       "       character_count   word_count  sentences_count\n",
       "count      4516.000000  4516.000000      4516.000000\n",
       "mean         70.459256    17.123782         1.820195\n",
       "std          56.358207    13.493970         1.383657\n",
       "min           2.000000     1.000000         1.000000\n",
       "25%          34.000000     8.000000         1.000000\n",
       "50%          52.000000    13.000000         1.000000\n",
       "75%          90.000000    22.000000         2.000000\n",
       "max         910.000000   220.000000        38.000000"
      ]
     },
     "execution_count": 28,
     "metadata": {},
     "output_type": "execute_result"
    }
   ],
   "source": [
    "# Statistical Description Of ham Messages\n",
    "sms[sms['target'] == 0][['character_count', 'word_count', 'sentences_count']].describe()"
   ]
  },
  {
   "cell_type": "code",
   "execution_count": 29,
   "metadata": {
    "colab": {
     "base_uri": "https://localhost:8080/",
     "height": 300
    },
    "id": "Mfsthk1n2WTC",
    "outputId": "b7d7b70a-8dcf-4e26-9bc3-53e453e34d4b"
   },
   "outputs": [
    {
     "data": {
      "text/html": [
       "<div>\n",
       "<style scoped>\n",
       "    .dataframe tbody tr th:only-of-type {\n",
       "        vertical-align: middle;\n",
       "    }\n",
       "\n",
       "    .dataframe tbody tr th {\n",
       "        vertical-align: top;\n",
       "    }\n",
       "\n",
       "    .dataframe thead th {\n",
       "        text-align: right;\n",
       "    }\n",
       "</style>\n",
       "<table border=\"1\" class=\"dataframe\">\n",
       "  <thead>\n",
       "    <tr style=\"text-align: right;\">\n",
       "      <th></th>\n",
       "      <th>character_count</th>\n",
       "      <th>word_count</th>\n",
       "      <th>sentences_count</th>\n",
       "    </tr>\n",
       "  </thead>\n",
       "  <tbody>\n",
       "    <tr>\n",
       "      <th>count</th>\n",
       "      <td>653.000000</td>\n",
       "      <td>653.000000</td>\n",
       "      <td>653.000000</td>\n",
       "    </tr>\n",
       "    <tr>\n",
       "      <th>mean</th>\n",
       "      <td>137.891271</td>\n",
       "      <td>27.667688</td>\n",
       "      <td>2.970904</td>\n",
       "    </tr>\n",
       "    <tr>\n",
       "      <th>std</th>\n",
       "      <td>30.137753</td>\n",
       "      <td>7.008418</td>\n",
       "      <td>1.488425</td>\n",
       "    </tr>\n",
       "    <tr>\n",
       "      <th>min</th>\n",
       "      <td>13.000000</td>\n",
       "      <td>2.000000</td>\n",
       "      <td>1.000000</td>\n",
       "    </tr>\n",
       "    <tr>\n",
       "      <th>25%</th>\n",
       "      <td>132.000000</td>\n",
       "      <td>25.000000</td>\n",
       "      <td>2.000000</td>\n",
       "    </tr>\n",
       "    <tr>\n",
       "      <th>50%</th>\n",
       "      <td>149.000000</td>\n",
       "      <td>29.000000</td>\n",
       "      <td>3.000000</td>\n",
       "    </tr>\n",
       "    <tr>\n",
       "      <th>75%</th>\n",
       "      <td>157.000000</td>\n",
       "      <td>32.000000</td>\n",
       "      <td>4.000000</td>\n",
       "    </tr>\n",
       "    <tr>\n",
       "      <th>max</th>\n",
       "      <td>224.000000</td>\n",
       "      <td>46.000000</td>\n",
       "      <td>9.000000</td>\n",
       "    </tr>\n",
       "  </tbody>\n",
       "</table>\n",
       "</div>"
      ],
      "text/plain": [
       "       character_count  word_count  sentences_count\n",
       "count       653.000000  653.000000       653.000000\n",
       "mean        137.891271   27.667688         2.970904\n",
       "std          30.137753    7.008418         1.488425\n",
       "min          13.000000    2.000000         1.000000\n",
       "25%         132.000000   25.000000         2.000000\n",
       "50%         149.000000   29.000000         3.000000\n",
       "75%         157.000000   32.000000         4.000000\n",
       "max         224.000000   46.000000         9.000000"
      ]
     },
     "execution_count": 29,
     "metadata": {},
     "output_type": "execute_result"
    }
   ],
   "source": [
    "# Statistical Description Of spam Messages\n",
    "sms[sms['target'] == 1][['character_count', 'word_count', 'sentences_count']].describe()"
   ]
  },
  {
   "cell_type": "code",
   "execution_count": 30,
   "metadata": {
    "id": "9NDF6_q32mQt"
   },
   "outputs": [],
   "source": [
    "import seaborn as sns"
   ]
  },
  {
   "cell_type": "code",
   "execution_count": 31,
   "metadata": {
    "colab": {
     "base_uri": "https://localhost:8080/",
     "height": 280
    },
    "id": "9iS-PdK22r4x",
    "outputId": "4644b4b5-f198-453b-b1de-9216ec52a2a2"
   },
   "outputs": [
    {
     "data": {
      "image/png": "[encoded data removed]",
      "text/plain": [
       "<Figure size 640x480 with 1 Axes>"
      ]
     },
     "metadata": {},
     "output_type": "display_data"
    }
   ],
   "source": [
    "sns.histplot(sms[sms['target'] == 0]['character_count'], color='green');\n",
    "sns.histplot(sms[sms['target'] == 1]['character_count'], color='red');"
   ]
  },
  {
   "cell_type": "code",
   "execution_count": 32,
   "metadata": {
    "colab": {
     "base_uri": "https://localhost:8080/",
     "height": 280
    },
    "id": "Bdvu1geN3BNf",
    "outputId": "c120854b-d617-439f-d6de-aac24b0529b7"
   },
   "outputs": [
    {
     "data": {
      "image/png": "[encoded data removed]",
      "text/plain": [
       "<Figure size 640x480 with 1 Axes>"
      ]
     },
     "metadata": {},
     "output_type": "display_data"
    }
   ],
   "source": [
    "sns.histplot(sms[sms['target'] == 0]['word_count'], color='green');\n",
    "sns.histplot(sms[sms['target'] == 1]['word_count'], color='red');"
   ]
  },
  {
   "cell_type": "code",
   "execution_count": 33,
   "metadata": {
    "colab": {
     "base_uri": "https://localhost:8080/",
     "height": 550
    },
    "id": "eIiDk7cb4FlS",
    "outputId": "62ef6328-ef3b-4b5d-e95d-a99846723bce"
   },
   "outputs": [
    {
     "data": {
      "image/png": "[encoded data removed]",
      "text/plain": [
       "<Figure size 808.875x750 with 12 Axes>"
      ]
     },
     "metadata": {},
     "output_type": "display_data"
    }
   ],
   "source": [
    "sns.pairplot(sms, hue='target');"
   ]
  },
  {
   "cell_type": "code",
   "execution_count": 34,
   "metadata": {
    "colab": {
     "base_uri": "https://localhost:8080/",
     "height": 343
    },
    "id": "Nho3dyHH4lZ9",
    "outputId": "0ccc42b9-ae38-425c-cb07-97f617962f81"
   },
   "outputs": [
    {
     "name": "stderr",
     "output_type": "stream",
     "text": [
      "C:\\Users\\astro\\AppData\\Local\\Temp\\ipykernel_20168\\829786454.py:1: FutureWarning: The default value of numeric_only in DataFrame.corr is deprecated. In a future version, it will default to False. Select only valid columns or specify the value of numeric_only to silence this warning.\n",
      "  sns.heatmap(sms.corr(), annot=True);\n"
     ]
    },
    {
     "data": {
      "image/png": "[encoded data removed]",
      "text/plain": [
       "<Figure size 640x480 with 2 Axes>"
      ]
     },
     "metadata": {},
     "output_type": "display_data"
    }
   ],
   "source": [
    "sns.heatmap(sms.corr(), annot=True);"
   ]
  },
  {
   "cell_type": "markdown",
   "metadata": {
    "id": "cLjf0MJqsWRE"
   },
   "source": [
    "## TEXT PREPROCESSING"
   ]
  },
  {
   "cell_type": "markdown",
   "metadata": {
    "id": "mU5XkTyO4-cb"
   },
   "source": [
    "1. Lower Case\n",
    "2. Tokenization\n",
    "3. Removing Special Characters (if any)\n",
    "4. Removing StopWords And Punctuation\n",
    "5. Stemming (or Lemmitization)"
   ]
  },
  {
   "cell_type": "code",
   "execution_count": 35,
   "metadata": {
    "colab": {
     "base_uri": "https://localhost:8080/"
    },
    "id": "HH8DRpUR6p0c",
    "outputId": "8e6027a0-fdaf-4e8a-fb10-53b0f336338d"
   },
   "outputs": [
    {
     "name": "stderr",
     "output_type": "stream",
     "text": [
      "[nltk_data] Downloading package stopwords to\n",
      "[nltk_data]     C:\\Users\\astro\\AppData\\Roaming\\nltk_data...\n",
      "[nltk_data]   Package stopwords is already up-to-date!\n"
     ]
    }
   ],
   "source": [
    "from nltk.corpus import stopwords\n",
    "nltk.download('stopwords')\n",
    "#stopwords.words('english')\n",
    "import string\n",
    "#string.punctuation\n",
    "from nltk.stem.porter import PorterStemmer\n",
    "ps = PorterStemmer()"
   ]
  },
  {
   "cell_type": "code",
   "execution_count": 36,
   "metadata": {
    "id": "xpNhbJW746tH"
   },
   "outputs": [],
   "source": [
    "def transform_text(text):\n",
    "  text = text.lower()\n",
    "  text = nltk.word_tokenize(text)\n",
    "\n",
    "  y = []\n",
    "  for i in text:\n",
    "     if i.isalnum():\n",
    "       y.append(i)\n",
    "\n",
    "  text = y[:]\n",
    "  y.clear()\n",
    "\n",
    "  for i in text:\n",
    "    if i not in stopwords.words('english') and i not in string.punctuation:\n",
    "      y.append(i)\n",
    "\n",
    "  text = y[:]\n",
    "  y.clear()\n",
    "\n",
    "  for i in text:\n",
    "    y.append(ps.stem(i))\n",
    "\n",
    "  return ' '.join(y)"
   ]
  },
  {
   "cell_type": "code",
   "execution_count": 37,
   "metadata": {
    "colab": {
     "base_uri": "https://localhost:8080/"
    },
    "id": "DkQ-evDR9yZf",
    "outputId": "be37ad15-66a0-4ad1-9e3d-b34d96cc1eca"
   },
   "outputs": [
    {
     "data": {
      "text/plain": [
       "0       go jurong point crazi avail bugi n great world...\n",
       "1                                   ok lar joke wif u oni\n",
       "2       free entri 2 wkli comp win fa cup final tkt 21...\n",
       "3                     u dun say earli hor u c alreadi say\n",
       "4                    nah think goe usf live around though\n",
       "                              ...                        \n",
       "5567    2nd time tri 2 contact u pound prize 2 claim e...\n",
       "5568                                b go esplanad fr home\n",
       "5569                                    piti mood suggest\n",
       "5570    guy bitch act like interest buy someth els nex...\n",
       "5571                                       rofl true name\n",
       "Name: text, Length: 5169, dtype: object"
      ]
     },
     "execution_count": 37,
     "metadata": {},
     "output_type": "execute_result"
    }
   ],
   "source": [
    "sms['text'].apply(transform_text)"
   ]
  },
  {
   "cell_type": "code",
   "execution_count": 38,
   "metadata": {
    "colab": {
     "base_uri": "https://localhost:8080/"
    },
    "id": "-5pNzBJV9lhM",
    "outputId": "023ce3fa-c761-4b36-90c8-1495cfc11988"
   },
   "outputs": [
    {
     "name": "stderr",
     "output_type": "stream",
     "text": [
      "C:\\Users\\astro\\AppData\\Local\\Temp\\ipykernel_20168\\860222750.py:1: SettingWithCopyWarning: \n",
      "A value is trying to be set on a copy of a slice from a DataFrame.\n",
      "Try using .loc[row_indexer,col_indexer] = value instead\n",
      "\n",
      "See the caveats in the documentation: https://pandas.pydata.org/pandas-docs/stable/user_guide/indexing.html#returning-a-view-versus-a-copy\n",
      "  sms['transformed_text'] = sms['text'].apply(transform_text)\n"
     ]
    }
   ],
   "source": [
    "sms['transformed_text'] = sms['text'].apply(transform_text)"
   ]
  },
  {
   "cell_type": "code",
   "execution_count": 39,
   "metadata": {
    "colab": {
     "base_uri": "https://localhost:8080/",
     "height": 206
    },
    "id": "5W-ctWeD9_Gg",
    "outputId": "dbe724e3-dc3e-42c2-c78a-7c178f4ba818"
   },
   "outputs": [
    {
     "data": {
      "text/html": [
       "<div>\n",
       "<style scoped>\n",
       "    .dataframe tbody tr th:only-of-type {\n",
       "        vertical-align: middle;\n",
       "    }\n",
       "\n",
       "    .dataframe tbody tr th {\n",
       "        vertical-align: top;\n",
       "    }\n",
       "\n",
       "    .dataframe thead th {\n",
       "        text-align: right;\n",
       "    }\n",
       "</style>\n",
       "<table border=\"1\" class=\"dataframe\">\n",
       "  <thead>\n",
       "    <tr style=\"text-align: right;\">\n",
       "      <th></th>\n",
       "      <th>target</th>\n",
       "      <th>text</th>\n",
       "      <th>character_count</th>\n",
       "      <th>word_count</th>\n",
       "      <th>sentences_count</th>\n",
       "      <th>transformed_text</th>\n",
       "    </tr>\n",
       "  </thead>\n",
       "  <tbody>\n",
       "    <tr>\n",
       "      <th>0</th>\n",
       "      <td>0</td>\n",
       "      <td>Go until jurong point, crazy.. Available only ...</td>\n",
       "      <td>111</td>\n",
       "      <td>24</td>\n",
       "      <td>2</td>\n",
       "      <td>go jurong point crazi avail bugi n great world...</td>\n",
       "    </tr>\n",
       "    <tr>\n",
       "      <th>1</th>\n",
       "      <td>0</td>\n",
       "      <td>Ok lar... Joking wif u oni...</td>\n",
       "      <td>29</td>\n",
       "      <td>8</td>\n",
       "      <td>2</td>\n",
       "      <td>ok lar joke wif u oni</td>\n",
       "    </tr>\n",
       "    <tr>\n",
       "      <th>2</th>\n",
       "      <td>1</td>\n",
       "      <td>Free entry in 2 a wkly comp to win FA Cup fina...</td>\n",
       "      <td>155</td>\n",
       "      <td>37</td>\n",
       "      <td>2</td>\n",
       "      <td>free entri 2 wkli comp win fa cup final tkt 21...</td>\n",
       "    </tr>\n",
       "    <tr>\n",
       "      <th>3</th>\n",
       "      <td>0</td>\n",
       "      <td>U dun say so early hor... U c already then say...</td>\n",
       "      <td>49</td>\n",
       "      <td>13</td>\n",
       "      <td>1</td>\n",
       "      <td>u dun say earli hor u c alreadi say</td>\n",
       "    </tr>\n",
       "    <tr>\n",
       "      <th>4</th>\n",
       "      <td>0</td>\n",
       "      <td>Nah I don't think he goes to usf, he lives aro...</td>\n",
       "      <td>61</td>\n",
       "      <td>15</td>\n",
       "      <td>1</td>\n",
       "      <td>nah think goe usf live around though</td>\n",
       "    </tr>\n",
       "  </tbody>\n",
       "</table>\n",
       "</div>"
      ],
      "text/plain": [
       "   target                                               text  character_count  \\\n",
       "0       0  Go until jurong point, crazy.. Available only ...              111   \n",
       "1       0                      Ok lar... Joking wif u oni...               29   \n",
       "2       1  Free entry in 2 a wkly comp to win FA Cup fina...              155   \n",
       "3       0  U dun say so early hor... U c already then say...               49   \n",
       "4       0  Nah I don't think he goes to usf, he lives aro...               61   \n",
       "\n",
       "   word_count  sentences_count  \\\n",
       "0          24                2   \n",
       "1           8                2   \n",
       "2          37                2   \n",
       "3          13                1   \n",
       "4          15                1   \n",
       "\n",
       "                                    transformed_text  \n",
       "0  go jurong point crazi avail bugi n great world...  \n",
       "1                              ok lar joke wif u oni  \n",
       "2  free entri 2 wkli comp win fa cup final tkt 21...  \n",
       "3                u dun say earli hor u c alreadi say  \n",
       "4               nah think goe usf live around though  "
      ]
     },
     "execution_count": 39,
     "metadata": {},
     "output_type": "execute_result"
    }
   ],
   "source": [
    "sms.head()"
   ]
  },
  {
   "cell_type": "markdown",
   "metadata": {
    "id": "iKT1BOjH9ekL"
   },
   "source": [
    "WORDCOUNT PLOT"
   ]
  },
  {
   "cell_type": "code",
   "execution_count": 40,
   "metadata": {},
   "outputs": [
    {
     "name": "stdout",
     "output_type": "stream",
     "text": [
      "Collecting wordcloud\n",
      "  Downloading wordcloud-1.8.2.2-cp310-cp310-win_amd64.whl (153 kB)\n",
      "     ------------------------------------ 153.1/153.1 kB 285.6 kB/s eta 0:00:00\n",
      "Requirement already satisfied: pillow in c:\\users\\astro\\music\\data science projects\\email_sms_spam\\env\\lib\\site-packages (from wordcloud) (9.2.0)\n",
      "Requirement already satisfied: matplotlib in c:\\users\\astro\\music\\data science projects\\email_sms_spam\\env\\lib\\site-packages (from wordcloud) (3.6.2)\n",
      "Requirement already satisfied: numpy>=1.6.1 in c:\\users\\astro\\music\\data science projects\\email_sms_spam\\env\\lib\\site-packages (from wordcloud) (1.23.4)\n",
      "Requirement already satisfied: cycler>=0.10 in c:\\users\\astro\\music\\data science projects\\email_sms_spam\\env\\lib\\site-packages (from matplotlib->wordcloud) (0.11.0)\n",
      "Requirement already satisfied: fonttools>=4.22.0 in c:\\users\\astro\\music\\data science projects\\email_sms_spam\\env\\lib\\site-packages (from matplotlib->wordcloud) (4.25.0)\n",
      "Requirement already satisfied: kiwisolver>=1.0.1 in c:\\users\\astro\\music\\data science projects\\email_sms_spam\\env\\lib\\site-packages (from matplotlib->wordcloud) (1.4.2)\n",
      "Requirement already satisfied: python-dateutil>=2.7 in c:\\users\\astro\\music\\data science projects\\email_sms_spam\\env\\lib\\site-packages (from matplotlib->wordcloud) (2.8.2)\n",
      "Requirement already satisfied: pyparsing>=2.2.1 in c:\\users\\astro\\music\\data science projects\\email_sms_spam\\env\\lib\\site-packages (from matplotlib->wordcloud) (3.0.9)\n",
      "Requirement already satisfied: contourpy>=1.0.1 in c:\\users\\astro\\music\\data science projects\\email_sms_spam\\env\\lib\\site-packages (from matplotlib->wordcloud) (1.0.5)\n",
      "Requirement already satisfied: packaging>=20.0 in c:\\users\\astro\\music\\data science projects\\email_sms_spam\\env\\lib\\site-packages (from matplotlib->wordcloud) (21.3)\n",
      "Requirement already satisfied: six>=1.5 in c:\\users\\astro\\music\\data science projects\\email_sms_spam\\env\\lib\\site-packages (from python-dateutil>=2.7->matplotlib->wordcloud) (1.16.0)\n",
      "Installing collected packages: wordcloud\n",
      "Successfully installed wordcloud-1.8.2.2\n"
     ]
    }
   ],
   "source": [
    "! pip install wordcloud"
   ]
  },
  {
   "cell_type": "code",
   "execution_count": 41,
   "metadata": {
    "id": "Pc3n54iy9XUU"
   },
   "outputs": [],
   "source": [
    "from wordcloud import WordCloud\n",
    "wc = WordCloud(width=500, height=500, min_font_size=10, background_color='white')"
   ]
  },
  {
   "cell_type": "code",
   "execution_count": 42,
   "metadata": {
    "colab": {
     "base_uri": "https://localhost:8080/",
     "height": 269
    },
    "id": "Dtk21o9U_IL3",
    "outputId": "39ea818f-e8ee-4d29-80df-fe0c38d70d4b"
   },
   "outputs": [
    {
     "data": {
      "image/png": "[encoded data removed]",
      "text/plain": [
       "<Figure size 640x480 with 1 Axes>"
      ]
     },
     "metadata": {},
     "output_type": "display_data"
    }
   ],
   "source": [
    "spam_wc = wc.generate(sms[sms['target'] == 1]['transformed_text'].str.cat(sep=' '))\n",
    "plt.imshow(spam_wc);"
   ]
  },
  {
   "cell_type": "code",
   "execution_count": 43,
   "metadata": {
    "colab": {
     "base_uri": "https://localhost:8080/",
     "height": 269
    },
    "id": "WXScJnyM_rAW",
    "outputId": "1f740c01-7915-4115-87b2-a9c43334a17a"
   },
   "outputs": [
    {
     "data": {
      "image/png": "[encoded data removed]",
      "text/plain": [
       "<Figure size 640x480 with 1 Axes>"
      ]
     },
     "metadata": {},
     "output_type": "display_data"
    }
   ],
   "source": [
    "ham_wc = wc.generate(sms[sms['target'] == 0]['transformed_text'].str.cat(sep=' '))\n",
    "plt.imshow(ham_wc);"
   ]
  },
  {
   "cell_type": "code",
   "execution_count": 44,
   "metadata": {
    "id": "dn-GGYH6BHl3"
   },
   "outputs": [],
   "source": [
    "spam_corpus = []\n",
    "for msg in sms[sms['target'] == 1]['transformed_text'].tolist():\n",
    "  for word in msg.split():\n",
    "    spam_corpus.append(word)"
   ]
  },
  {
   "cell_type": "code",
   "execution_count": 45,
   "metadata": {
    "colab": {
     "base_uri": "https://localhost:8080/"
    },
    "id": "H8QGvBUMB0Z5",
    "outputId": "fb520762-90f1-42b2-d5aa-2cdc8c49899f"
   },
   "outputs": [
    {
     "data": {
      "text/plain": [
       "['free',\n",
       " 'entri',\n",
       " '2',\n",
       " 'wkli',\n",
       " 'comp',\n",
       " 'win',\n",
       " 'fa',\n",
       " 'cup',\n",
       " 'final',\n",
       " 'tkt',\n",
       " '21st',\n",
       " 'may',\n",
       " 'text',\n",
       " 'fa',\n",
       " '87121',\n",
       " 'receiv',\n",
       " 'entri',\n",
       " 'question',\n",
       " 'std',\n",
       " 'txt',\n",
       " 'rate',\n",
       " 'c',\n",
       " 'appli',\n",
       " '08452810075over18',\n",
       " 'freemsg',\n",
       " 'hey',\n",
       " 'darl',\n",
       " '3',\n",
       " 'week',\n",
       " 'word',\n",
       " 'back',\n",
       " 'like',\n",
       " 'fun',\n",
       " 'still',\n",
       " 'tb',\n",
       " 'ok',\n",
       " 'xxx',\n",
       " 'std',\n",
       " 'chg',\n",
       " 'send',\n",
       " 'rcv',\n",
       " 'winner',\n",
       " 'valu',\n",
       " 'network',\n",
       " 'custom',\n",
       " 'select',\n",
       " 'receivea',\n",
       " 'prize',\n",
       " 'reward',\n",
       " 'claim',\n",
       " 'call',\n",
       " 'claim',\n",
       " 'code',\n",
       " 'kl341',\n",
       " 'valid',\n",
       " '12',\n",
       " 'hour',\n",
       " 'mobil',\n",
       " '11',\n",
       " 'month',\n",
       " 'u',\n",
       " 'r',\n",
       " 'entitl',\n",
       " 'updat',\n",
       " 'latest',\n",
       " 'colour',\n",
       " 'mobil',\n",
       " 'camera',\n",
       " 'free',\n",
       " 'call',\n",
       " 'mobil',\n",
       " 'updat',\n",
       " 'co',\n",
       " 'free',\n",
       " '08002986030',\n",
       " 'six',\n",
       " 'chanc',\n",
       " 'win',\n",
       " 'cash',\n",
       " '100',\n",
       " 'pound',\n",
       " 'txt',\n",
       " 'csh11',\n",
       " 'send',\n",
       " 'cost',\n",
       " '6day',\n",
       " 'tsandc',\n",
       " 'appli',\n",
       " 'repli',\n",
       " 'hl',\n",
       " '4',\n",
       " 'info',\n",
       " 'urgent',\n",
       " '1',\n",
       " 'week',\n",
       " 'free',\n",
       " 'membership',\n",
       " 'prize',\n",
       " 'jackpot',\n",
       " 'txt',\n",
       " 'word',\n",
       " 'claim',\n",
       " '81010',\n",
       " 'c',\n",
       " 'lccltd',\n",
       " 'pobox',\n",
       " '4403ldnw1a7rw18',\n",
       " 'xxxmobilemovieclub',\n",
       " 'use',\n",
       " 'credit',\n",
       " 'click',\n",
       " 'wap',\n",
       " 'link',\n",
       " 'next',\n",
       " 'txt',\n",
       " 'messag',\n",
       " 'click',\n",
       " 'http',\n",
       " 'england',\n",
       " 'v',\n",
       " 'macedonia',\n",
       " 'dont',\n",
       " 'miss',\n",
       " 'news',\n",
       " 'txt',\n",
       " 'ur',\n",
       " 'nation',\n",
       " 'team',\n",
       " '87077',\n",
       " 'eg',\n",
       " 'england',\n",
       " '87077',\n",
       " 'tri',\n",
       " 'wale',\n",
       " 'scotland',\n",
       " 'poboxox36504w45wq',\n",
       " 'thank',\n",
       " 'subscript',\n",
       " 'rington',\n",
       " 'uk',\n",
       " 'mobil',\n",
       " 'charg',\n",
       " 'pleas',\n",
       " 'confirm',\n",
       " 'repli',\n",
       " 'ye',\n",
       " 'repli',\n",
       " 'charg',\n",
       " '07732584351',\n",
       " 'rodger',\n",
       " 'burn',\n",
       " 'msg',\n",
       " 'tri',\n",
       " 'call',\n",
       " 'repli',\n",
       " 'sm',\n",
       " 'free',\n",
       " 'nokia',\n",
       " 'mobil',\n",
       " 'free',\n",
       " 'camcord',\n",
       " 'pleas',\n",
       " 'call',\n",
       " '08000930705',\n",
       " 'deliveri',\n",
       " 'tomorrow',\n",
       " 'sm',\n",
       " 'ac',\n",
       " 'sptv',\n",
       " 'new',\n",
       " 'jersey',\n",
       " 'devil',\n",
       " 'detroit',\n",
       " 'red',\n",
       " 'wing',\n",
       " 'play',\n",
       " 'ice',\n",
       " 'hockey',\n",
       " 'correct',\n",
       " 'incorrect',\n",
       " 'end',\n",
       " 'repli',\n",
       " 'end',\n",
       " 'sptv',\n",
       " 'congrat',\n",
       " '1',\n",
       " 'year',\n",
       " 'special',\n",
       " 'cinema',\n",
       " 'pass',\n",
       " '2',\n",
       " 'call',\n",
       " '09061209465',\n",
       " 'c',\n",
       " 'suprman',\n",
       " 'v',\n",
       " 'matrix3',\n",
       " 'starwars3',\n",
       " 'etc',\n",
       " '4',\n",
       " 'free',\n",
       " '150pm',\n",
       " 'dont',\n",
       " 'miss',\n",
       " 'valu',\n",
       " 'custom',\n",
       " 'pleas',\n",
       " 'advis',\n",
       " 'follow',\n",
       " 'recent',\n",
       " 'review',\n",
       " 'mob',\n",
       " 'award',\n",
       " 'bonu',\n",
       " 'prize',\n",
       " 'call',\n",
       " '09066364589',\n",
       " 'urgent',\n",
       " 'ur',\n",
       " 'award',\n",
       " 'complimentari',\n",
       " 'trip',\n",
       " 'eurodisinc',\n",
       " 'trav',\n",
       " 'aco',\n",
       " 'entry41',\n",
       " 'claim',\n",
       " 'txt',\n",
       " 'di',\n",
       " '87121',\n",
       " 'morefrmmob',\n",
       " 'shracomorsglsuplt',\n",
       " '10',\n",
       " 'ls1',\n",
       " '3aj',\n",
       " 'hear',\n",
       " 'new',\n",
       " 'come',\n",
       " 'ken',\n",
       " 'stuff',\n",
       " 'pleas',\n",
       " 'call',\n",
       " 'custom',\n",
       " 'servic',\n",
       " 'repres',\n",
       " '0800',\n",
       " '169',\n",
       " '6031',\n",
       " 'guarante',\n",
       " 'cash',\n",
       " 'prize',\n",
       " 'free',\n",
       " 'rington',\n",
       " 'wait',\n",
       " 'collect',\n",
       " 'simpli',\n",
       " 'text',\n",
       " 'password',\n",
       " '85069',\n",
       " 'verifi',\n",
       " 'get',\n",
       " 'usher',\n",
       " 'britney',\n",
       " 'fml',\n",
       " 'gent',\n",
       " 'tri',\n",
       " 'contact',\n",
       " 'last',\n",
       " 'weekend',\n",
       " 'draw',\n",
       " 'show',\n",
       " 'prize',\n",
       " 'guarante',\n",
       " 'call',\n",
       " 'claim',\n",
       " 'code',\n",
       " 'k52',\n",
       " 'valid',\n",
       " '12hr',\n",
       " '150ppm',\n",
       " 'winner',\n",
       " 'u',\n",
       " 'special',\n",
       " 'select',\n",
       " '2',\n",
       " 'receiv',\n",
       " '4',\n",
       " 'holiday',\n",
       " 'flight',\n",
       " 'inc',\n",
       " 'speak',\n",
       " 'live',\n",
       " 'oper',\n",
       " '2',\n",
       " 'claim',\n",
       " 'privat',\n",
       " '2004',\n",
       " 'account',\n",
       " 'statement',\n",
       " '07742676969',\n",
       " 'show',\n",
       " '786',\n",
       " 'unredeem',\n",
       " 'bonu',\n",
       " 'point',\n",
       " 'claim',\n",
       " 'call',\n",
       " '08719180248',\n",
       " 'identifi',\n",
       " 'code',\n",
       " '45239',\n",
       " 'expir',\n",
       " 'urgent',\n",
       " 'mobil',\n",
       " 'award',\n",
       " 'bonu',\n",
       " 'caller',\n",
       " 'prize',\n",
       " 'final',\n",
       " 'tri',\n",
       " 'contact',\n",
       " 'u',\n",
       " 'call',\n",
       " 'landlin',\n",
       " '09064019788',\n",
       " 'box42wr29c',\n",
       " '150ppm',\n",
       " 'today',\n",
       " 'voda',\n",
       " 'number',\n",
       " 'end',\n",
       " '7548',\n",
       " 'select',\n",
       " 'receiv',\n",
       " '350',\n",
       " 'award',\n",
       " 'match',\n",
       " 'pleas',\n",
       " 'call',\n",
       " '08712300220',\n",
       " 'quot',\n",
       " 'claim',\n",
       " 'code',\n",
       " '4041',\n",
       " 'standard',\n",
       " 'rate',\n",
       " 'app',\n",
       " 'sunshin',\n",
       " 'quiz',\n",
       " 'wkli',\n",
       " 'q',\n",
       " 'win',\n",
       " 'top',\n",
       " 'soni',\n",
       " 'dvd',\n",
       " 'player',\n",
       " 'u',\n",
       " 'know',\n",
       " 'countri',\n",
       " 'algarv',\n",
       " 'txt',\n",
       " 'ansr',\n",
       " 'sp',\n",
       " 'tyron',\n",
       " 'want',\n",
       " '2',\n",
       " 'get',\n",
       " 'laid',\n",
       " 'tonight',\n",
       " 'want',\n",
       " 'real',\n",
       " 'dog',\n",
       " 'locat',\n",
       " 'sent',\n",
       " 'direct',\n",
       " '2',\n",
       " 'ur',\n",
       " 'mob',\n",
       " 'join',\n",
       " 'uk',\n",
       " 'largest',\n",
       " 'dog',\n",
       " 'network',\n",
       " 'bt',\n",
       " 'txting',\n",
       " 'gravel',\n",
       " '69888',\n",
       " 'nt',\n",
       " 'ec2a',\n",
       " '150p',\n",
       " 'rcv',\n",
       " 'msg',\n",
       " 'chat',\n",
       " 'svc',\n",
       " 'free',\n",
       " 'hardcor',\n",
       " 'servic',\n",
       " 'text',\n",
       " 'go',\n",
       " '69988',\n",
       " 'u',\n",
       " 'get',\n",
       " 'noth',\n",
       " 'u',\n",
       " 'must',\n",
       " 'age',\n",
       " 'verifi',\n",
       " 'yr',\n",
       " 'network',\n",
       " 'tri',\n",
       " 'freemsg',\n",
       " 'repli',\n",
       " 'text',\n",
       " 'randi',\n",
       " 'sexi',\n",
       " 'femal',\n",
       " 'live',\n",
       " 'local',\n",
       " 'luv',\n",
       " 'hear',\n",
       " 'netcollex',\n",
       " 'ltd',\n",
       " '08700621170150p',\n",
       " 'per',\n",
       " 'msg',\n",
       " 'repli',\n",
       " 'stop',\n",
       " 'end',\n",
       " 'custom',\n",
       " 'servic',\n",
       " 'annonc',\n",
       " 'new',\n",
       " 'year',\n",
       " 'deliveri',\n",
       " 'wait',\n",
       " 'pleas',\n",
       " 'call',\n",
       " '07046744435',\n",
       " 'arrang',\n",
       " 'deliveri',\n",
       " 'winner',\n",
       " 'u',\n",
       " 'special',\n",
       " 'select',\n",
       " '2',\n",
       " 'receiv',\n",
       " 'cash',\n",
       " '4',\n",
       " 'holiday',\n",
       " 'flight',\n",
       " 'inc',\n",
       " 'speak',\n",
       " 'live',\n",
       " 'oper',\n",
       " '2',\n",
       " 'claim',\n",
       " '0871277810810',\n",
       " 'stop',\n",
       " 'bootydeli',\n",
       " 'invit',\n",
       " 'friend',\n",
       " 'repli',\n",
       " 'see',\n",
       " 'stop',\n",
       " 'send',\n",
       " 'stop',\n",
       " 'frnd',\n",
       " '62468',\n",
       " 'bangbab',\n",
       " 'ur',\n",
       " 'order',\n",
       " 'way',\n",
       " 'u',\n",
       " 'receiv',\n",
       " 'servic',\n",
       " 'msg',\n",
       " '2',\n",
       " 'download',\n",
       " 'ur',\n",
       " 'content',\n",
       " 'u',\n",
       " 'goto',\n",
       " 'wap',\n",
       " 'bangb',\n",
       " 'tv',\n",
       " 'ur',\n",
       " 'mobil',\n",
       " 'menu',\n",
       " 'urgent',\n",
       " 'tri',\n",
       " 'contact',\n",
       " 'last',\n",
       " 'weekend',\n",
       " 'draw',\n",
       " 'show',\n",
       " 'prize',\n",
       " 'guarante',\n",
       " 'call',\n",
       " 'claim',\n",
       " 'code',\n",
       " 's89',\n",
       " 'valid',\n",
       " '12hr',\n",
       " 'pleas',\n",
       " 'call',\n",
       " 'custom',\n",
       " 'servic',\n",
       " 'repres',\n",
       " 'freephon',\n",
       " '0808',\n",
       " '145',\n",
       " '4742',\n",
       " 'guarante',\n",
       " 'cash',\n",
       " 'prize',\n",
       " 'uniqu',\n",
       " 'enough',\n",
       " 'find',\n",
       " '30th',\n",
       " 'august',\n",
       " '500',\n",
       " 'new',\n",
       " 'mobil',\n",
       " '2004',\n",
       " 'must',\n",
       " 'go',\n",
       " 'txt',\n",
       " 'nokia',\n",
       " '89545',\n",
       " 'collect',\n",
       " 'today',\n",
       " '2optout',\n",
       " 'u',\n",
       " 'meet',\n",
       " 'ur',\n",
       " 'dream',\n",
       " 'partner',\n",
       " 'soon',\n",
       " 'ur',\n",
       " 'career',\n",
       " '2',\n",
       " 'flyng',\n",
       " 'start',\n",
       " '2',\n",
       " 'find',\n",
       " 'free',\n",
       " 'txt',\n",
       " 'horo',\n",
       " 'follow',\n",
       " 'ur',\n",
       " 'star',\n",
       " 'sign',\n",
       " 'horo',\n",
       " 'ari',\n",
       " 'text',\n",
       " 'meet',\n",
       " 'someon',\n",
       " 'sexi',\n",
       " 'today',\n",
       " 'u',\n",
       " 'find',\n",
       " 'date',\n",
       " 'even',\n",
       " 'flirt',\n",
       " 'join',\n",
       " '4',\n",
       " '10p',\n",
       " 'repli',\n",
       " 'name',\n",
       " 'age',\n",
       " 'eg',\n",
       " 'sam',\n",
       " '25',\n",
       " '18',\n",
       " 'recd',\n",
       " 'thirtyeight',\n",
       " 'penc',\n",
       " 'u',\n",
       " '447801259231',\n",
       " 'secret',\n",
       " 'admir',\n",
       " 'look',\n",
       " '2',\n",
       " 'make',\n",
       " 'contact',\n",
       " 'r',\n",
       " 'reveal',\n",
       " 'think',\n",
       " 'ur',\n",
       " '09058094597',\n",
       " 'congratul',\n",
       " 'ur',\n",
       " 'award',\n",
       " '500',\n",
       " 'cd',\n",
       " 'voucher',\n",
       " '125gift',\n",
       " 'guarante',\n",
       " 'free',\n",
       " 'entri',\n",
       " '2',\n",
       " '100',\n",
       " 'wkli',\n",
       " 'draw',\n",
       " 'txt',\n",
       " 'music',\n",
       " '87066',\n",
       " 'tnc',\n",
       " 'tri',\n",
       " 'contact',\n",
       " 'repli',\n",
       " 'offer',\n",
       " 'video',\n",
       " 'handset',\n",
       " '750',\n",
       " 'anytim',\n",
       " 'network',\n",
       " 'min',\n",
       " 'unlimit',\n",
       " 'text',\n",
       " 'camcord',\n",
       " 'repli',\n",
       " 'call',\n",
       " '08000930705',\n",
       " 'hey',\n",
       " 'realli',\n",
       " 'horni',\n",
       " 'want',\n",
       " 'chat',\n",
       " 'see',\n",
       " 'nake',\n",
       " 'text',\n",
       " 'hot',\n",
       " '69698',\n",
       " 'text',\n",
       " 'charg',\n",
       " '150pm',\n",
       " 'unsubscrib',\n",
       " 'text',\n",
       " 'stop',\n",
       " '69698',\n",
       " 'ur',\n",
       " 'rington',\n",
       " 'servic',\n",
       " 'chang',\n",
       " '25',\n",
       " 'free',\n",
       " 'credit',\n",
       " 'go',\n",
       " 'choos',\n",
       " 'content',\n",
       " 'stop',\n",
       " 'txt',\n",
       " 'club',\n",
       " 'stop',\n",
       " '87070',\n",
       " 'club4',\n",
       " 'po',\n",
       " 'box1146',\n",
       " 'mk45',\n",
       " '2wt',\n",
       " 'rington',\n",
       " 'club',\n",
       " 'get',\n",
       " 'uk',\n",
       " 'singl',\n",
       " 'chart',\n",
       " 'mobil',\n",
       " 'week',\n",
       " 'choos',\n",
       " 'top',\n",
       " 'qualiti',\n",
       " 'rington',\n",
       " 'messag',\n",
       " 'free',\n",
       " 'charg',\n",
       " 'hmv',\n",
       " 'bonu',\n",
       " 'special',\n",
       " '500',\n",
       " 'pound',\n",
       " 'genuin',\n",
       " 'hmv',\n",
       " 'voucher',\n",
       " 'answer',\n",
       " '4',\n",
       " 'easi',\n",
       " 'question',\n",
       " 'play',\n",
       " 'send',\n",
       " 'hmv',\n",
       " '86688',\n",
       " 'info',\n",
       " 'custom',\n",
       " 'may',\n",
       " 'claim',\n",
       " 'free',\n",
       " 'camera',\n",
       " 'phone',\n",
       " 'upgrad',\n",
       " 'pay',\n",
       " 'go',\n",
       " 'sim',\n",
       " 'card',\n",
       " 'loyalti',\n",
       " 'call',\n",
       " '0845',\n",
       " '021',\n",
       " 'end',\n",
       " 'c',\n",
       " 'appli',\n",
       " 'sm',\n",
       " 'ac',\n",
       " 'blind',\n",
       " 'date',\n",
       " '4u',\n",
       " 'rodds1',\n",
       " 'aberdeen',\n",
       " 'unit',\n",
       " 'kingdom',\n",
       " 'check',\n",
       " 'http',\n",
       " 'sm',\n",
       " 'blind',\n",
       " 'date',\n",
       " 'send',\n",
       " 'hide',\n",
       " 'themob',\n",
       " 'check',\n",
       " 'newest',\n",
       " 'select',\n",
       " 'content',\n",
       " 'game',\n",
       " 'tone',\n",
       " 'gossip',\n",
       " 'babe',\n",
       " 'sport',\n",
       " 'keep',\n",
       " 'mobil',\n",
       " 'fit',\n",
       " 'funki',\n",
       " 'text',\n",
       " 'wap',\n",
       " '82468',\n",
       " 'think',\n",
       " 'ur',\n",
       " 'smart',\n",
       " 'win',\n",
       " 'week',\n",
       " 'weekli',\n",
       " 'quiz',\n",
       " 'text',\n",
       " 'play',\n",
       " '85222',\n",
       " 'cs',\n",
       " 'winnersclub',\n",
       " 'po',\n",
       " 'box',\n",
       " '84',\n",
       " 'm26',\n",
       " '3uz',\n",
       " 'decemb',\n",
       " 'mobil',\n",
       " 'entitl',\n",
       " 'updat',\n",
       " 'latest',\n",
       " 'colour',\n",
       " 'camera',\n",
       " 'mobil',\n",
       " 'free',\n",
       " 'call',\n",
       " 'mobil',\n",
       " 'updat',\n",
       " 'co',\n",
       " 'free',\n",
       " '08002986906',\n",
       " 'call',\n",
       " 'germani',\n",
       " '1',\n",
       " 'penc',\n",
       " 'per',\n",
       " 'minut',\n",
       " 'call',\n",
       " 'fix',\n",
       " 'line',\n",
       " 'via',\n",
       " 'access',\n",
       " 'number',\n",
       " '0844',\n",
       " '861',\n",
       " '85',\n",
       " 'prepay',\n",
       " 'direct',\n",
       " 'access',\n",
       " 'valentin',\n",
       " 'day',\n",
       " 'special',\n",
       " 'win',\n",
       " 'quiz',\n",
       " 'take',\n",
       " 'partner',\n",
       " 'trip',\n",
       " 'lifetim',\n",
       " 'send',\n",
       " 'go',\n",
       " '83600',\n",
       " 'rcvd',\n",
       " 'fanci',\n",
       " 'shag',\n",
       " 'txt',\n",
       " 'xxuk',\n",
       " 'suzi',\n",
       " 'txt',\n",
       " 'cost',\n",
       " 'per',\n",
       " 'msg',\n",
       " 'tnc',\n",
       " 'websit',\n",
       " 'x',\n",
       " 'ur',\n",
       " 'current',\n",
       " '500',\n",
       " 'pound',\n",
       " 'maxim',\n",
       " 'ur',\n",
       " 'send',\n",
       " 'cash',\n",
       " '86688',\n",
       " 'cc',\n",
       " '08708800282',\n",
       " 'xma',\n",
       " 'offer',\n",
       " 'latest',\n",
       " 'motorola',\n",
       " 'sonyericsson',\n",
       " 'nokia',\n",
       " 'free',\n",
       " 'bluetooth',\n",
       " 'doubl',\n",
       " 'min',\n",
       " '1000',\n",
       " 'txt',\n",
       " 'orang',\n",
       " 'call',\n",
       " 'mobileupd8',\n",
       " '08000839402',\n",
       " 'discount',\n",
       " 'code',\n",
       " 'rp176781',\n",
       " 'stop',\n",
       " 'messag',\n",
       " 'repli',\n",
       " 'stop',\n",
       " 'custom',\n",
       " 'servic',\n",
       " '08717205546',\n",
       " 'thank',\n",
       " 'rington',\n",
       " 'order',\n",
       " 'refer',\n",
       " 't91',\n",
       " 'charg',\n",
       " 'gbp',\n",
       " '4',\n",
       " 'per',\n",
       " 'week',\n",
       " 'unsubscrib',\n",
       " 'anytim',\n",
       " 'call',\n",
       " 'custom',\n",
       " 'servic',\n",
       " '09057039994',\n",
       " 'doubl',\n",
       " 'min',\n",
       " 'txt',\n",
       " '4',\n",
       " '6month',\n",
       " 'free',\n",
       " 'bluetooth',\n",
       " 'orang',\n",
       " 'avail',\n",
       " 'soni',\n",
       " 'nokia',\n",
       " 'motorola',\n",
       " 'phone',\n",
       " 'call',\n",
       " 'mobileupd8',\n",
       " '08000839402',\n",
       " '4mth',\n",
       " 'half',\n",
       " 'price',\n",
       " 'orang',\n",
       " 'line',\n",
       " 'rental',\n",
       " 'latest',\n",
       " 'camera',\n",
       " 'phone',\n",
       " '4',\n",
       " 'free',\n",
       " 'phone',\n",
       " '11mth',\n",
       " 'call',\n",
       " 'mobilesdirect',\n",
       " 'free',\n",
       " '08000938767',\n",
       " 'updat',\n",
       " 'or2stoptxt',\n",
       " 'free',\n",
       " 'rington',\n",
       " 'text',\n",
       " 'first',\n",
       " '87131',\n",
       " 'poli',\n",
       " 'text',\n",
       " 'get',\n",
       " '87131',\n",
       " 'true',\n",
       " 'tone',\n",
       " 'help',\n",
       " '0845',\n",
       " '2814032',\n",
       " '16',\n",
       " '1st',\n",
       " 'free',\n",
       " 'tone',\n",
       " 'txt',\n",
       " 'stop',\n",
       " '100',\n",
       " 'date',\n",
       " 'servic',\n",
       " 'cal',\n",
       " 'l',\n",
       " '09064012103',\n",
       " 'box334sk38ch',\n",
       " 'free',\n",
       " 'entri',\n",
       " 'weekli',\n",
       " 'competit',\n",
       " 'text',\n",
       " 'word',\n",
       " 'win',\n",
       " '80086',\n",
       " '18',\n",
       " 'c',\n",
       " 'send',\n",
       " 'logo',\n",
       " '2',\n",
       " 'ur',\n",
       " 'lover',\n",
       " '2',\n",
       " 'name',\n",
       " 'join',\n",
       " 'heart',\n",
       " 'txt',\n",
       " 'love',\n",
       " 'name1',\n",
       " 'name2',\n",
       " 'mobno',\n",
       " 'eg',\n",
       " 'love',\n",
       " 'adam',\n",
       " 'eve',\n",
       " '07123456789',\n",
       " '87077',\n",
       " 'yahoo',\n",
       " 'pobox36504w45wq',\n",
       " 'txtno',\n",
       " '4',\n",
       " 'ad',\n",
       " '150p',\n",
       " 'someon',\n",
       " 'contact',\n",
       " 'date',\n",
       " 'servic',\n",
       " 'enter',\n",
       " 'phone',\n",
       " 'fanci',\n",
       " 'find',\n",
       " 'call',\n",
       " 'landlin',\n",
       " '09111032124',\n",
       " 'pobox12n146tf150p',\n",
       " 'urgent',\n",
       " 'mobil',\n",
       " 'number',\n",
       " 'award',\n",
       " 'prize',\n",
       " 'guarante',\n",
       " 'call',\n",
       " '09058094455',\n",
       " 'land',\n",
       " 'line',\n",
       " 'claim',\n",
       " 'valid',\n",
       " '12hr',\n",
       " 'congrat',\n",
       " 'nokia',\n",
       " '3650',\n",
       " 'video',\n",
       " 'camera',\n",
       " ...]"
      ]
     },
     "execution_count": 45,
     "metadata": {},
     "output_type": "execute_result"
    }
   ],
   "source": [
    "spam_corpus"
   ]
  },
  {
   "cell_type": "code",
   "execution_count": 47,
   "metadata": {
    "colab": {
     "base_uri": "https://localhost:8080/",
     "height": 362
    },
    "id": "W0UNsWnTB-dx",
    "outputId": "89d2659a-17f0-4189-f442-54592ba57ecb"
   },
   "outputs": [
    {
     "ename": "TypeError",
     "evalue": "barplot() takes from 0 to 1 positional arguments but 2 were given",
     "output_type": "error",
     "traceback": [
      "\u001b[1;31m---------------------------------------------------------------------------\u001b[0m",
      "\u001b[1;31mTypeError\u001b[0m                                 Traceback (most recent call last)",
      "Cell \u001b[1;32mIn[47], line 2\u001b[0m\n\u001b[0;32m      1\u001b[0m \u001b[38;5;28;01mfrom\u001b[39;00m \u001b[38;5;21;01mcollections\u001b[39;00m \u001b[38;5;28;01mimport\u001b[39;00m Counter\n\u001b[1;32m----> 2\u001b[0m \u001b[43msns\u001b[49m\u001b[38;5;241;43m.\u001b[39;49m\u001b[43mbarplot\u001b[49m\u001b[43m(\u001b[49m\u001b[43mpd\u001b[49m\u001b[38;5;241;43m.\u001b[39;49m\u001b[43mDataFrame\u001b[49m\u001b[43m(\u001b[49m\u001b[43mCounter\u001b[49m\u001b[43m(\u001b[49m\u001b[43mspam_corpus\u001b[49m\u001b[43m)\u001b[49m\u001b[38;5;241;43m.\u001b[39;49m\u001b[43mmost_common\u001b[49m\u001b[43m(\u001b[49m\u001b[38;5;241;43m30\u001b[39;49m\u001b[43m)\u001b[49m\u001b[43m)\u001b[49m\u001b[43m[\u001b[49m\u001b[38;5;241;43m0\u001b[39;49m\u001b[43m]\u001b[49m\u001b[43m,\u001b[49m\u001b[43m \u001b[49m\u001b[43mpd\u001b[49m\u001b[38;5;241;43m.\u001b[39;49m\u001b[43mDataFrame\u001b[49m\u001b[43m(\u001b[49m\u001b[43mCounter\u001b[49m\u001b[43m(\u001b[49m\u001b[43mspam_corpus\u001b[49m\u001b[43m)\u001b[49m\u001b[38;5;241;43m.\u001b[39;49m\u001b[43mmost_common\u001b[49m\u001b[43m(\u001b[49m\u001b[38;5;241;43m30\u001b[39;49m\u001b[43m)\u001b[49m\u001b[43m)\u001b[49m\u001b[43m[\u001b[49m\u001b[38;5;241;43m1\u001b[39;49m\u001b[43m]\u001b[49m\u001b[43m)\u001b[49m\n\u001b[0;32m      3\u001b[0m plt\u001b[38;5;241m.\u001b[39mxticks(rotation\u001b[38;5;241m=\u001b[39m\u001b[38;5;124m'\u001b[39m\u001b[38;5;124mvertical\u001b[39m\u001b[38;5;124m'\u001b[39m)\n\u001b[0;32m      4\u001b[0m plt\u001b[38;5;241m.\u001b[39mshow()\n",
      "\u001b[1;31mTypeError\u001b[0m: barplot() takes from 0 to 1 positional arguments but 2 were given"
     ]
    }
   ],
   "source": [
    "from collections import Counter\n",
    "sns.barplot(pd.DataFrame(Counter(spam_corpus).most_common(30))[0], pd.DataFrame(Counter(spam_corpus).most_common(30))[1])\n",
    "plt.xticks(rotation='vertical')\n",
    "plt.show()"
   ]
  },
  {
   "cell_type": "code",
   "execution_count": 48,
   "metadata": {
    "id": "t8NmmtvUC5zf"
   },
   "outputs": [],
   "source": [
    "ham_corpus = []\n",
    "for msg in sms[sms['target'] == 0]['transformed_text'].tolist():\n",
    "  for word in msg.split():\n",
    "    ham_corpus.append(word)"
   ]
  },
  {
   "cell_type": "code",
   "execution_count": 54,
   "metadata": {
    "colab": {
     "base_uri": "https://localhost:8080/",
     "height": 352
    },
    "id": "30nIzS7MEVii",
    "outputId": "5efba1a1-8af2-493f-a572-363364865d32"
   },
   "outputs": [
    {
     "name": "stderr",
     "output_type": "stream",
     "text": [
      "C:\\Users\\astro\\anaconda3\\lib\\site-packages\\seaborn\\_decorators.py:36: FutureWarning: Pass the following variables as keyword args: x, y. From version 0.12, the only valid positional argument will be `data`, and passing other arguments without an explicit keyword will result in an error or misinterpretation.\n",
      "  warnings.warn(\n"
     ]
    },
    {
     "data": {
      "image/png": "[encoded data removed]",
      "text/plain": [
       "<Figure size 640x480 with 1 Axes>"
      ]
     },
     "metadata": {},
     "output_type": "display_data"
    }
   ],
   "source": [
    "from collections import Counter\n",
    "sns.barplot(pd.DataFrame(Counter(ham_corpus).most_common(30))[0], pd.DataFrame(Counter(ham_corpus).most_common(30))[1])\n",
    "plt.xticks(rotation='vertical')\n",
    "plt.show()"
   ]
  },
  {
   "cell_type": "markdown",
   "metadata": {
    "id": "9--DIHifsYnD"
   },
   "source": [
    "## MODEL BUILDING"
   ]
  },
  {
   "cell_type": "markdown",
   "metadata": {
    "id": "AOoEjK54FCfv"
   },
   "source": [
    "### VECTORIZATION : BagOfWords"
   ]
  },
  {
   "cell_type": "code",
   "execution_count": 49,
   "metadata": {
    "id": "9BSYZ7PlEsTh"
   },
   "outputs": [],
   "source": [
    "from sklearn.feature_extraction.text import CountVectorizer\n",
    "cv = CountVectorizer()"
   ]
  },
  {
   "cell_type": "code",
   "execution_count": 50,
   "metadata": {
    "id": "yd5fGn9QFe8w"
   },
   "outputs": [],
   "source": [
    "X = cv.fit_transform(sms['transformed_text']).toarray()"
   ]
  },
  {
   "cell_type": "code",
   "execution_count": 51,
   "metadata": {
    "id": "dith0uzpFsq9"
   },
   "outputs": [],
   "source": [
    "y = sms['target']"
   ]
  },
  {
   "cell_type": "code",
   "execution_count": 52,
   "metadata": {
    "id": "Wvh9OHbUF4fh"
   },
   "outputs": [],
   "source": [
    "from sklearn.model_selection import train_test_split\n",
    "\n",
    "X_train, X_test, y_train, y_test = train_test_split(X, y, test_size=0.2, random_state=2)"
   ]
  },
  {
   "cell_type": "code",
   "execution_count": 53,
   "metadata": {
    "id": "ggey1YNKGdue"
   },
   "outputs": [],
   "source": [
    "from sklearn.naive_bayes import GaussianNB, MultinomialNB, BernoulliNB\n",
    "from sklearn.metrics import accuracy_score, confusion_matrix, precision_score\n",
    "gnb = GaussianNB()\n",
    "mnb = MultinomialNB()\n",
    "bnb = BernoulliNB()"
   ]
  },
  {
   "cell_type": "markdown",
   "metadata": {
    "id": "cB-6qw_cHWyw"
   },
   "source": [
    "GAUSSIAN NAIVE BAYES"
   ]
  },
  {
   "cell_type": "code",
   "execution_count": 54,
   "metadata": {
    "colab": {
     "base_uri": "https://localhost:8080/"
    },
    "id": "iPof1PVGG56P",
    "outputId": "6927bcc0-46b5-48ac-aa88-4485f1493586"
   },
   "outputs": [
    {
     "name": "stdout",
     "output_type": "stream",
     "text": [
      "The Accuracy Score Of GaussianNB :\n",
      " 0.8800773694390716\n",
      "The Confusion Matrix Of GaussianNB :\n",
      " [[792 104]\n",
      " [ 20 118]]\n",
      "The Precision Score Of GaussianNB :\n",
      " 0.5315315315315315\n"
     ]
    }
   ],
   "source": [
    "# Training\n",
    "gnb.fit(X_train, y_train)\n",
    "\n",
    "# Prediction\n",
    "y_pred_gnb = gnb.predict(X_test)\n",
    "\n",
    "# Accuracy Score\n",
    "acc_gnb = accuracy_score(y_test, y_pred_gnb)\n",
    "print(f'The Accuracy Score Of GaussianNB :\\n {acc_gnb}')\n",
    "\n",
    "# Confusion MAtrix\n",
    "conf_matrix_gnb = confusion_matrix(y_test, y_pred_gnb)\n",
    "print(f'The Confusion Matrix Of GaussianNB :\\n {conf_matrix_gnb}')\n",
    "\n",
    "# Precision Score\n",
    "precision_gnb = precision_score(y_test, y_pred_gnb)\n",
    "print(f'The Precision Score Of GaussianNB :\\n {precision_gnb}')"
   ]
  },
  {
   "cell_type": "markdown",
   "metadata": {
    "id": "pkm16lJpJd-d"
   },
   "source": [
    "MULTINOMIAL NAIVE BAYES"
   ]
  },
  {
   "cell_type": "code",
   "execution_count": 55,
   "metadata": {
    "colab": {
     "base_uri": "https://localhost:8080/"
    },
    "id": "6PYTRM4YJZZj",
    "outputId": "600727a5-0c79-4bdf-f316-60cc93f6137f"
   },
   "outputs": [
    {
     "name": "stdout",
     "output_type": "stream",
     "text": [
      "The Accuracy Score Of MultinomialNB :\n",
      " 0.9642166344294004\n",
      "The Confusion Matrix Of MultinomialNB :\n",
      " [[871  25]\n",
      " [ 12 126]]\n",
      "The Precision Score Of MultinomialNB :\n",
      " 0.8344370860927153\n"
     ]
    }
   ],
   "source": [
    "# Training\n",
    "mnb.fit(X_train, y_train)\n",
    "\n",
    "# Prediction\n",
    "y_pred_mnb = mnb.predict(X_test)\n",
    "\n",
    "# Accuracy Score\n",
    "acc_mnb = accuracy_score(y_test, y_pred_mnb)\n",
    "print(f'The Accuracy Score Of MultinomialNB :\\n {acc_mnb}')\n",
    "\n",
    "# Confusion MAtrix\n",
    "conf_matrix_mnb = confusion_matrix(y_test, y_pred_mnb)\n",
    "print(f'The Confusion Matrix Of MultinomialNB :\\n {conf_matrix_mnb}')\n",
    "\n",
    "# Precision Score\n",
    "precision_mnb = precision_score(y_test, y_pred_mnb)\n",
    "print(f'The Precision Score Of MultinomialNB :\\n {precision_mnb}')"
   ]
  },
  {
   "cell_type": "markdown",
   "metadata": {
    "id": "SdC5gTDdKE2I"
   },
   "source": [
    "BERNOULLI NAIVE BAYES"
   ]
  },
  {
   "cell_type": "code",
   "execution_count": 56,
   "metadata": {
    "colab": {
     "base_uri": "https://localhost:8080/"
    },
    "id": "C3V0EiArKBaV",
    "outputId": "0e74c3d4-9fc0-4d0a-bd4b-0598ca47b238"
   },
   "outputs": [
    {
     "name": "stdout",
     "output_type": "stream",
     "text": [
      "The Accuracy Score Of BernoulliNB :\n",
      " 0.9700193423597679\n",
      "The Confusion Matrix Of BernoullilNB :\n",
      " [[893   3]\n",
      " [ 28 110]]\n",
      "The Precision Score Of BernoulliNB :\n",
      " 0.9734513274336283\n"
     ]
    }
   ],
   "source": [
    "# Training\n",
    "bnb.fit(X_train, y_train)\n",
    "\n",
    "# Prediction\n",
    "y_pred_bnb = bnb.predict(X_test)\n",
    "\n",
    "# Accuracy Score\n",
    "acc_bnb = accuracy_score(y_test, y_pred_bnb)\n",
    "print(f'The Accuracy Score Of BernoulliNB :\\n {acc_bnb}')\n",
    "\n",
    "# Confusion MAtrix\n",
    "conf_matrix_bnb = confusion_matrix(y_test, y_pred_bnb)\n",
    "print(f'The Confusion Matrix Of BernoullilNB :\\n {conf_matrix_bnb}')\n",
    "\n",
    "# Precision Score\n",
    "precision_bnb = precision_score(y_test, y_pred_bnb)\n",
    "print(f'The Precision Score Of BernoulliNB :\\n {precision_bnb}')"
   ]
  },
  {
   "cell_type": "markdown",
   "metadata": {
    "id": "aQB85y_rLZ7X"
   },
   "source": [
    "### VECTORIZATION : TfidfVectorizer"
   ]
  },
  {
   "cell_type": "code",
   "execution_count": 57,
   "metadata": {
    "id": "tCLkUJsiLfZQ"
   },
   "outputs": [],
   "source": [
    "from sklearn.feature_extraction.text import TfidfVectorizer\n",
    "tfidf = TfidfVectorizer(max_features=3000)"
   ]
  },
  {
   "cell_type": "code",
   "execution_count": 58,
   "metadata": {
    "id": "-Z5jwsY9Lsee"
   },
   "outputs": [],
   "source": [
    "X = tfidf.fit_transform(sms['transformed_text']).toarray()\n",
    "y = sms['target']"
   ]
  },
  {
   "cell_type": "code",
   "execution_count": 59,
   "metadata": {
    "id": "x9s0Q2DQL6xJ"
   },
   "outputs": [],
   "source": [
    "from sklearn.model_selection import train_test_split\n",
    "\n",
    "X_train, X_test, y_train, y_test = train_test_split(X, y, test_size=0.2, random_state=2)"
   ]
  },
  {
   "cell_type": "code",
   "execution_count": 60,
   "metadata": {
    "id": "XGxWXPudL-bC"
   },
   "outputs": [],
   "source": [
    "from sklearn.naive_bayes import GaussianNB, MultinomialNB, BernoulliNB\n",
    "from sklearn.metrics import accuracy_score, confusion_matrix, precision_score\n",
    "gnb = GaussianNB()\n",
    "mnb = MultinomialNB()\n",
    "bnb = BernoulliNB()"
   ]
  },
  {
   "cell_type": "markdown",
   "metadata": {
    "id": "1sPH75v5MG-G"
   },
   "source": [
    "GAUSSIAN NAIVE BAYES"
   ]
  },
  {
   "cell_type": "code",
   "execution_count": 61,
   "metadata": {
    "colab": {
     "base_uri": "https://localhost:8080/"
    },
    "id": "Oxjg2ygoMGF1",
    "outputId": "89682f71-801f-4933-caf3-121e537eedab"
   },
   "outputs": [
    {
     "name": "stdout",
     "output_type": "stream",
     "text": [
      "The Accuracy Score Of GaussianNB :\n",
      " 0.8694390715667312\n",
      "The Confusion Matrix Of GaussianNB :\n",
      " [[788 108]\n",
      " [ 27 111]]\n",
      "The Precision Score Of GaussianNB :\n",
      " 0.5068493150684932\n"
     ]
    }
   ],
   "source": [
    "# Training\n",
    "gnb.fit(X_train, y_train)\n",
    "\n",
    "# Prediction\n",
    "y_pred_gnb = gnb.predict(X_test)\n",
    "\n",
    "# Accuracy Score\n",
    "acc_gnb = accuracy_score(y_test, y_pred_gnb)\n",
    "print(f'The Accuracy Score Of GaussianNB :\\n {acc_gnb}')\n",
    "\n",
    "# Confusion MAtrix\n",
    "conf_matrix_gnb = confusion_matrix(y_test, y_pred_gnb)\n",
    "print(f'The Confusion Matrix Of GaussianNB :\\n {conf_matrix_gnb}')\n",
    "\n",
    "# Precision Score\n",
    "precision_gnb = precision_score(y_test, y_pred_gnb)\n",
    "print(f'The Precision Score Of GaussianNB :\\n {precision_gnb}')"
   ]
  },
  {
   "cell_type": "markdown",
   "metadata": {
    "id": "66hg7a_mMOe3"
   },
   "source": [
    "MULTINOMIAL NAIVE BAYES"
   ]
  },
  {
   "cell_type": "code",
   "execution_count": 62,
   "metadata": {
    "colab": {
     "base_uri": "https://localhost:8080/"
    },
    "id": "z_zAey2gMK8D",
    "outputId": "67017bfb-9298-4dc3-d4a8-da9377e31cdc"
   },
   "outputs": [
    {
     "name": "stdout",
     "output_type": "stream",
     "text": [
      "The Accuracy Score Of MultinomialNB :\n",
      " 0.9709864603481625\n",
      "The Confusion Matrix Of MultinomialNB :\n",
      " [[896   0]\n",
      " [ 30 108]]\n",
      "The Precision Score Of MultinomialNB :\n",
      " 1.0\n"
     ]
    }
   ],
   "source": [
    "# Training\n",
    "mnb.fit(X_train, y_train)\n",
    "\n",
    "# Prediction\n",
    "y_pred_mnb = mnb.predict(X_test)\n",
    "\n",
    "# Accuracy Score\n",
    "acc_mnb = accuracy_score(y_test, y_pred_mnb)\n",
    "print(f'The Accuracy Score Of MultinomialNB :\\n {acc_mnb}')\n",
    "\n",
    "# Confusion MAtrix\n",
    "conf_matrix_mnb = confusion_matrix(y_test, y_pred_mnb)\n",
    "print(f'The Confusion Matrix Of MultinomialNB :\\n {conf_matrix_mnb}')\n",
    "\n",
    "# Precision Score\n",
    "precision_mnb = precision_score(y_test, y_pred_mnb)\n",
    "print(f'The Precision Score Of MultinomialNB :\\n {precision_mnb}')"
   ]
  },
  {
   "cell_type": "markdown",
   "metadata": {
    "id": "eC2DFm3hMY43"
   },
   "source": [
    "BERNOULLI NAIVE BAYES"
   ]
  },
  {
   "cell_type": "code",
   "execution_count": 63,
   "metadata": {
    "colab": {
     "base_uri": "https://localhost:8080/"
    },
    "id": "pFiP2gzuMRRP",
    "outputId": "906348ed-0669-417e-f515-0633a7a5e2c0"
   },
   "outputs": [
    {
     "name": "stdout",
     "output_type": "stream",
     "text": [
      "The Accuracy Score Of BernoulliNB :\n",
      " 0.9835589941972921\n",
      "The Confusion Matrix Of BernoullilNB :\n",
      " [[895   1]\n",
      " [ 16 122]]\n",
      "The Precision Score Of BernoulliNB :\n",
      " 0.991869918699187\n"
     ]
    }
   ],
   "source": [
    "# Training\n",
    "bnb.fit(X_train, y_train)\n",
    "\n",
    "# Prediction\n",
    "y_pred_bnb = bnb.predict(X_test)\n",
    "\n",
    "# Accuracy Score\n",
    "acc_bnb = accuracy_score(y_test, y_pred_bnb)\n",
    "print(f'The Accuracy Score Of BernoulliNB :\\n {acc_bnb}')\n",
    "\n",
    "# Confusion MAtrix\n",
    "conf_matrix_bnb = confusion_matrix(y_test, y_pred_bnb)\n",
    "print(f'The Confusion Matrix Of BernoullilNB :\\n {conf_matrix_bnb}')\n",
    "\n",
    "# Precision Score\n",
    "precision_bnb = precision_score(y_test, y_pred_bnb)\n",
    "print(f'The Precision Score Of BernoulliNB :\\n {precision_bnb}')"
   ]
  },
  {
   "cell_type": "markdown",
   "metadata": {
    "id": "tBnn7TXBsei5"
   },
   "source": [
    "## EVALUATION"
   ]
  },
  {
   "cell_type": "code",
   "execution_count": 64,
   "metadata": {},
   "outputs": [
    {
     "name": "stdout",
     "output_type": "stream",
     "text": [
      "Collecting xgboost\n",
      "  Using cached xgboost-1.7.2-py3-none-win_amd64.whl (89.1 MB)\n",
      "Requirement already satisfied: scipy in c:\\users\\astro\\music\\data science projects\\email_sms_spam\\env\\lib\\site-packages (from xgboost) (1.9.3)\n",
      "Requirement already satisfied: numpy in c:\\users\\astro\\music\\data science projects\\email_sms_spam\\env\\lib\\site-packages (from xgboost) (1.23.4)\n",
      "Installing collected packages: xgboost\n",
      "Successfully installed xgboost-1.7.2\n"
     ]
    }
   ],
   "source": [
    "! pip install xgboost"
   ]
  },
  {
   "cell_type": "code",
   "execution_count": 65,
   "metadata": {
    "id": "-PS9-so_NyjL"
   },
   "outputs": [],
   "source": [
    "from sklearn.linear_model import LogisticRegression\n",
    "from sklearn.svm import SVC\n",
    "from sklearn.naive_bayes import MultinomialNB\n",
    "from sklearn.tree import DecisionTreeClassifier\n",
    "from sklearn.neighbors import KNeighborsClassifier\n",
    "from sklearn.ensemble import RandomForestClassifier\n",
    "from sklearn.ensemble import AdaBoostClassifier\n",
    "from sklearn.ensemble import BaggingClassifier\n",
    "from sklearn.ensemble import ExtraTreesClassifier\n",
    "from sklearn.ensemble import GradientBoostingClassifier\n",
    "from xgboost import XGBClassifier"
   ]
  },
  {
   "cell_type": "code",
   "execution_count": 66,
   "metadata": {
    "id": "uh-cYn5vN-ab"
   },
   "outputs": [],
   "source": [
    "lrc = LogisticRegression(solver='liblinear', penalty='l1')\n",
    "svc = SVC(kernel='sigmoid', gamma=1.0)\n",
    "mnb = MultinomialNB()\n",
    "dtc = DecisionTreeClassifier(max_depth=5)\n",
    "knc = KNeighborsClassifier()\n",
    "rfc = RandomForestClassifier(n_estimators=50, random_state=2)\n",
    "abc = AdaBoostClassifier(n_estimators=50, random_state=2)\n",
    "bc = BaggingClassifier(n_estimators=50, random_state=2)\n",
    "etc = ExtraTreesClassifier(n_estimators=50, random_state=2)\n",
    "gdbt = GradientBoostingClassifier(n_estimators=50,random_state=2)\n",
    "xgb = XGBClassifier(n_estimators=50,random_state=2)"
   ]
  },
  {
   "cell_type": "code",
   "execution_count": 68,
   "metadata": {
    "id": "xhIL0ghuOXyA"
   },
   "outputs": [],
   "source": [
    "clfs = {\n",
    "    'LR': lrc,\n",
    "    'SVC' : svc,\n",
    "    'MNB': mnb,\n",
    "    'DTC': dtc,\n",
    "    'KNC' : knc, \n",
    "    'RFC': rfc, \n",
    "    'AdaBoost': abc, \n",
    "    'BgC': bc, \n",
    "    'ETC': etc,\n",
    "    'GDBT':gdbt,\n",
    "    'xgb':xgb\n",
    "}"
   ]
  },
  {
   "cell_type": "code",
   "execution_count": 69,
   "metadata": {
    "id": "t2AVcELPPBwk"
   },
   "outputs": [],
   "source": [
    "def train_classifier(clf,X_train,y_train,X_test,y_test):\n",
    "    clf.fit(X_train,y_train)\n",
    "    y_pred = clf.predict(X_test)\n",
    "    accuracy = accuracy_score(y_test,y_pred)\n",
    "    precision = precision_score(y_test,y_pred)\n",
    "    \n",
    "    return accuracy, precision"
   ]
  },
  {
   "cell_type": "code",
   "execution_count": 70,
   "metadata": {
    "colab": {
     "base_uri": "https://localhost:8080/"
    },
    "id": "bT-00_OJPYIe",
    "outputId": "4a9316ba-2aa3-4972-fa81-bf3854738df4"
   },
   "outputs": [
    {
     "name": "stdout",
     "output_type": "stream",
     "text": [
      "For  LR\n",
      "Accuracy :  0.9584139264990329\n",
      "Precision :  0.9702970297029703\n",
      "\n",
      "\n",
      "For  SVC\n",
      "Accuracy :  0.9758220502901354\n",
      "Precision :  0.9747899159663865\n",
      "\n",
      "\n",
      "For  MNB\n",
      "Accuracy :  0.9709864603481625\n",
      "Precision :  1.0\n",
      "\n",
      "\n",
      "For  DTC\n",
      "Accuracy :  0.9274661508704062\n",
      "Precision :  0.8118811881188119\n",
      "\n",
      "\n",
      "For  KNC\n",
      "Accuracy :  0.9052224371373307\n",
      "Precision :  1.0\n",
      "\n",
      "\n",
      "For  RFC\n",
      "Accuracy :  0.9758220502901354\n",
      "Precision :  0.9829059829059829\n",
      "\n",
      "\n",
      "For  AdaBoost\n",
      "Accuracy :  0.960348162475822\n",
      "Precision :  0.9292035398230089\n",
      "\n",
      "\n",
      "For  BgC\n",
      "Accuracy :  0.9584139264990329\n",
      "Precision :  0.8682170542635659\n",
      "\n",
      "\n",
      "For  ETC\n",
      "Accuracy :  0.9748549323017408\n",
      "Precision :  0.9745762711864406\n",
      "\n",
      "\n",
      "For  GDBT\n",
      "Accuracy :  0.9468085106382979\n",
      "Precision :  0.9191919191919192\n",
      "\n",
      "\n",
      "For  xgb\n",
      "Accuracy :  0.9671179883945842\n",
      "Precision :  0.9333333333333333\n",
      "\n",
      "\n"
     ]
    }
   ],
   "source": [
    "accuracy_scores = []\n",
    "precision_scores = []\n",
    "\n",
    "for name, clf in clfs.items():\n",
    "    \n",
    "    current_accuracy, current_precision = train_classifier(clf, X_train, y_train, X_test, y_test)\n",
    "\n",
    "    print(\"For \", name)\n",
    "    print(\"Accuracy : \", current_accuracy)\n",
    "    print(\"Precision : \", current_precision)\n",
    "    print('\\n')\n",
    "    accuracy_scores.append(current_accuracy)\n",
    "    precision_scores.append(current_precision)"
   ]
  },
  {
   "cell_type": "code",
   "execution_count": 71,
   "metadata": {
    "colab": {
     "base_uri": "https://localhost:8080/",
     "height": 394
    },
    "id": "6-sj6IGXPxQe",
    "outputId": "be7abfa0-38cf-4d84-bcea-d54b8a33c92e"
   },
   "outputs": [
    {
     "data": {
      "text/html": [
       "<div>\n",
       "<style scoped>\n",
       "    .dataframe tbody tr th:only-of-type {\n",
       "        vertical-align: middle;\n",
       "    }\n",
       "\n",
       "    .dataframe tbody tr th {\n",
       "        vertical-align: top;\n",
       "    }\n",
       "\n",
       "    .dataframe thead th {\n",
       "        text-align: right;\n",
       "    }\n",
       "</style>\n",
       "<table border=\"1\" class=\"dataframe\">\n",
       "  <thead>\n",
       "    <tr style=\"text-align: right;\">\n",
       "      <th></th>\n",
       "      <th>Algorithms</th>\n",
       "      <th>Accuracy</th>\n",
       "      <th>Precision</th>\n",
       "    </tr>\n",
       "  </thead>\n",
       "  <tbody>\n",
       "    <tr>\n",
       "      <th>2</th>\n",
       "      <td>MNB</td>\n",
       "      <td>0.970986</td>\n",
       "      <td>1.000000</td>\n",
       "    </tr>\n",
       "    <tr>\n",
       "      <th>4</th>\n",
       "      <td>KNC</td>\n",
       "      <td>0.905222</td>\n",
       "      <td>1.000000</td>\n",
       "    </tr>\n",
       "    <tr>\n",
       "      <th>5</th>\n",
       "      <td>RFC</td>\n",
       "      <td>0.975822</td>\n",
       "      <td>0.982906</td>\n",
       "    </tr>\n",
       "    <tr>\n",
       "      <th>1</th>\n",
       "      <td>SVC</td>\n",
       "      <td>0.975822</td>\n",
       "      <td>0.974790</td>\n",
       "    </tr>\n",
       "    <tr>\n",
       "      <th>8</th>\n",
       "      <td>ETC</td>\n",
       "      <td>0.974855</td>\n",
       "      <td>0.974576</td>\n",
       "    </tr>\n",
       "    <tr>\n",
       "      <th>0</th>\n",
       "      <td>LR</td>\n",
       "      <td>0.958414</td>\n",
       "      <td>0.970297</td>\n",
       "    </tr>\n",
       "    <tr>\n",
       "      <th>10</th>\n",
       "      <td>xgb</td>\n",
       "      <td>0.967118</td>\n",
       "      <td>0.933333</td>\n",
       "    </tr>\n",
       "    <tr>\n",
       "      <th>6</th>\n",
       "      <td>AdaBoost</td>\n",
       "      <td>0.960348</td>\n",
       "      <td>0.929204</td>\n",
       "    </tr>\n",
       "    <tr>\n",
       "      <th>9</th>\n",
       "      <td>GDBT</td>\n",
       "      <td>0.946809</td>\n",
       "      <td>0.919192</td>\n",
       "    </tr>\n",
       "    <tr>\n",
       "      <th>7</th>\n",
       "      <td>BgC</td>\n",
       "      <td>0.958414</td>\n",
       "      <td>0.868217</td>\n",
       "    </tr>\n",
       "    <tr>\n",
       "      <th>3</th>\n",
       "      <td>DTC</td>\n",
       "      <td>0.927466</td>\n",
       "      <td>0.811881</td>\n",
       "    </tr>\n",
       "  </tbody>\n",
       "</table>\n",
       "</div>"
      ],
      "text/plain": [
       "   Algorithms  Accuracy  Precision\n",
       "2         MNB  0.970986   1.000000\n",
       "4         KNC  0.905222   1.000000\n",
       "5         RFC  0.975822   0.982906\n",
       "1         SVC  0.975822   0.974790\n",
       "8         ETC  0.974855   0.974576\n",
       "0          LR  0.958414   0.970297\n",
       "10        xgb  0.967118   0.933333\n",
       "6    AdaBoost  0.960348   0.929204\n",
       "9        GDBT  0.946809   0.919192\n",
       "7         BgC  0.958414   0.868217\n",
       "3         DTC  0.927466   0.811881"
      ]
     },
     "execution_count": 71,
     "metadata": {},
     "output_type": "execute_result"
    }
   ],
   "source": [
    "performance_df = pd.DataFrame({'Algorithms':clfs.keys(),\n",
    "                               'Accuracy':accuracy_scores,\n",
    "                               'Precision':precision_scores}).sort_values('Precision', ascending=False)\n",
    "performance_df"
   ]
  },
  {
   "cell_type": "code",
   "execution_count": 73,
   "metadata": {
    "colab": {
     "base_uri": "https://localhost:8080/",
     "height": 739
    },
    "id": "LAP1MP5kQCP_",
    "outputId": "426919ba-9f40-4e95-db2f-e2d84029e141"
   },
   "outputs": [
    {
     "data": {
      "text/html": [
       "<div>\n",
       "<style scoped>\n",
       "    .dataframe tbody tr th:only-of-type {\n",
       "        vertical-align: middle;\n",
       "    }\n",
       "\n",
       "    .dataframe tbody tr th {\n",
       "        vertical-align: top;\n",
       "    }\n",
       "\n",
       "    .dataframe thead th {\n",
       "        text-align: right;\n",
       "    }\n",
       "</style>\n",
       "<table border=\"1\" class=\"dataframe\">\n",
       "  <thead>\n",
       "    <tr style=\"text-align: right;\">\n",
       "      <th></th>\n",
       "      <th>Algorithms</th>\n",
       "      <th>variable</th>\n",
       "      <th>value</th>\n",
       "    </tr>\n",
       "  </thead>\n",
       "  <tbody>\n",
       "    <tr>\n",
       "      <th>0</th>\n",
       "      <td>MNB</td>\n",
       "      <td>Accuracy</td>\n",
       "      <td>0.970986</td>\n",
       "    </tr>\n",
       "    <tr>\n",
       "      <th>1</th>\n",
       "      <td>KNC</td>\n",
       "      <td>Accuracy</td>\n",
       "      <td>0.905222</td>\n",
       "    </tr>\n",
       "    <tr>\n",
       "      <th>2</th>\n",
       "      <td>RFC</td>\n",
       "      <td>Accuracy</td>\n",
       "      <td>0.975822</td>\n",
       "    </tr>\n",
       "    <tr>\n",
       "      <th>3</th>\n",
       "      <td>SVC</td>\n",
       "      <td>Accuracy</td>\n",
       "      <td>0.975822</td>\n",
       "    </tr>\n",
       "    <tr>\n",
       "      <th>4</th>\n",
       "      <td>ETC</td>\n",
       "      <td>Accuracy</td>\n",
       "      <td>0.974855</td>\n",
       "    </tr>\n",
       "    <tr>\n",
       "      <th>5</th>\n",
       "      <td>LR</td>\n",
       "      <td>Accuracy</td>\n",
       "      <td>0.958414</td>\n",
       "    </tr>\n",
       "    <tr>\n",
       "      <th>6</th>\n",
       "      <td>xgb</td>\n",
       "      <td>Accuracy</td>\n",
       "      <td>0.967118</td>\n",
       "    </tr>\n",
       "    <tr>\n",
       "      <th>7</th>\n",
       "      <td>AdaBoost</td>\n",
       "      <td>Accuracy</td>\n",
       "      <td>0.960348</td>\n",
       "    </tr>\n",
       "    <tr>\n",
       "      <th>8</th>\n",
       "      <td>GDBT</td>\n",
       "      <td>Accuracy</td>\n",
       "      <td>0.946809</td>\n",
       "    </tr>\n",
       "    <tr>\n",
       "      <th>9</th>\n",
       "      <td>BgC</td>\n",
       "      <td>Accuracy</td>\n",
       "      <td>0.958414</td>\n",
       "    </tr>\n",
       "    <tr>\n",
       "      <th>10</th>\n",
       "      <td>DTC</td>\n",
       "      <td>Accuracy</td>\n",
       "      <td>0.927466</td>\n",
       "    </tr>\n",
       "    <tr>\n",
       "      <th>11</th>\n",
       "      <td>MNB</td>\n",
       "      <td>Precision</td>\n",
       "      <td>1.000000</td>\n",
       "    </tr>\n",
       "    <tr>\n",
       "      <th>12</th>\n",
       "      <td>KNC</td>\n",
       "      <td>Precision</td>\n",
       "      <td>1.000000</td>\n",
       "    </tr>\n",
       "    <tr>\n",
       "      <th>13</th>\n",
       "      <td>RFC</td>\n",
       "      <td>Precision</td>\n",
       "      <td>0.982906</td>\n",
       "    </tr>\n",
       "    <tr>\n",
       "      <th>14</th>\n",
       "      <td>SVC</td>\n",
       "      <td>Precision</td>\n",
       "      <td>0.974790</td>\n",
       "    </tr>\n",
       "    <tr>\n",
       "      <th>15</th>\n",
       "      <td>ETC</td>\n",
       "      <td>Precision</td>\n",
       "      <td>0.974576</td>\n",
       "    </tr>\n",
       "    <tr>\n",
       "      <th>16</th>\n",
       "      <td>LR</td>\n",
       "      <td>Precision</td>\n",
       "      <td>0.970297</td>\n",
       "    </tr>\n",
       "    <tr>\n",
       "      <th>17</th>\n",
       "      <td>xgb</td>\n",
       "      <td>Precision</td>\n",
       "      <td>0.933333</td>\n",
       "    </tr>\n",
       "    <tr>\n",
       "      <th>18</th>\n",
       "      <td>AdaBoost</td>\n",
       "      <td>Precision</td>\n",
       "      <td>0.929204</td>\n",
       "    </tr>\n",
       "    <tr>\n",
       "      <th>19</th>\n",
       "      <td>GDBT</td>\n",
       "      <td>Precision</td>\n",
       "      <td>0.919192</td>\n",
       "    </tr>\n",
       "    <tr>\n",
       "      <th>20</th>\n",
       "      <td>BgC</td>\n",
       "      <td>Precision</td>\n",
       "      <td>0.868217</td>\n",
       "    </tr>\n",
       "    <tr>\n",
       "      <th>21</th>\n",
       "      <td>DTC</td>\n",
       "      <td>Precision</td>\n",
       "      <td>0.811881</td>\n",
       "    </tr>\n",
       "  </tbody>\n",
       "</table>\n",
       "</div>"
      ],
      "text/plain": [
       "   Algorithms   variable     value\n",
       "0         MNB   Accuracy  0.970986\n",
       "1         KNC   Accuracy  0.905222\n",
       "2         RFC   Accuracy  0.975822\n",
       "3         SVC   Accuracy  0.975822\n",
       "4         ETC   Accuracy  0.974855\n",
       "5          LR   Accuracy  0.958414\n",
       "6         xgb   Accuracy  0.967118\n",
       "7    AdaBoost   Accuracy  0.960348\n",
       "8        GDBT   Accuracy  0.946809\n",
       "9         BgC   Accuracy  0.958414\n",
       "10        DTC   Accuracy  0.927466\n",
       "11        MNB  Precision  1.000000\n",
       "12        KNC  Precision  1.000000\n",
       "13        RFC  Precision  0.982906\n",
       "14        SVC  Precision  0.974790\n",
       "15        ETC  Precision  0.974576\n",
       "16         LR  Precision  0.970297\n",
       "17        xgb  Precision  0.933333\n",
       "18   AdaBoost  Precision  0.929204\n",
       "19       GDBT  Precision  0.919192\n",
       "20        BgC  Precision  0.868217\n",
       "21        DTC  Precision  0.811881"
      ]
     },
     "execution_count": 73,
     "metadata": {},
     "output_type": "execute_result"
    }
   ],
   "source": [
    "performance_df1 = pd.melt(performance_df, id_vars=\"Algorithms\")\n",
    "performance_df1"
   ]
  },
  {
   "cell_type": "code",
   "execution_count": 74,
   "metadata": {
    "colab": {
     "base_uri": "https://localhost:8080/",
     "height": 411
    },
    "id": "VKPIkqKOSeDk",
    "outputId": "4c4d4192-4883-4213-c6b3-2f5338358891"
   },
   "outputs": [
    {
     "data": {
      "image/png": "[encoded data removed]",
      "text/plain": [
       "<Figure size 613.5x500 with 1 Axes>"
      ]
     },
     "metadata": {},
     "output_type": "display_data"
    }
   ],
   "source": [
    "sns.catplot(x='Algorithms', y='value', hue ='variable', data=performance_df1, kind='bar', height=5)\n",
    "plt.ylim(0.5,1.0)\n",
    "plt.xticks(rotation='vertical')\n",
    "plt.show()"
   ]
  },
  {
   "cell_type": "markdown",
   "metadata": {
    "id": "IynDfkdXTHg-"
   },
   "source": [
    "### SAVING THE MODEL"
   ]
  },
  {
   "cell_type": "code",
   "execution_count": 75,
   "metadata": {
    "id": "2_xtI_dyWEvV"
   },
   "outputs": [],
   "source": [
    "import pickle\n",
    "pickle.dump(tfidf, open('vectorizer.pkl','wb'))\n",
    "pickle.dump(mnb, open('model.pkl','wb'))"
   ]
  },
  {
   "cell_type": "code",
   "execution_count": null,
   "metadata": {},
   "outputs": [],
   "source": []
  }
 ],
 "metadata": {
  "colab": {
   "provenance": []
  },
  "kernelspec": {
   "display_name": "Python 3 (ipykernel)",
   "language": "python",
   "name": "python3"
  },
  "language_info": {
   "codemirror_mode": {
    "name": "ipython",
    "version": 3
   },
   "file_extension": ".py",
   "mimetype": "text/x-python",
   "name": "python",
   "nbconvert_exporter": "python",
   "pygments_lexer": "ipython3",
   "version": "3.10.8"
  }
 },
 "nbformat": 4,
 "nbformat_minor": 1
}
